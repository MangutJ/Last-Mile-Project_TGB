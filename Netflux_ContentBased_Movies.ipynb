{
 "cells": [
  {
   "cell_type": "markdown",
   "metadata": {},
   "source": [
    "# NETFLUX Movie Recommendation Engine"
   ]
  },
  {
   "cell_type": "code",
   "execution_count": 1,
   "metadata": {},
   "outputs": [],
   "source": [
    "import pandas as pd\n",
    "import numpy as np\n",
    "import os\n",
    "import zipfile as ZipFile\n",
    "import gzip\n",
    "from functools import reduce \n",
    "# set pandas dataframe global options\n",
    "pd.set_option('display.max_columns', None)\n",
    "pd.set_option('display.max_rows', None)"
   ]
  },
  {
   "cell_type": "markdown",
   "metadata": {},
   "source": [
    "# Ingesting Data"
   ]
  },
  {
   "cell_type": "code",
   "execution_count": 2,
   "metadata": {},
   "outputs": [],
   "source": [
    "def read_file():\n",
    "    \"\"\" Checks if the given directory exists. Creates the directory if it does not exist.\n",
    "\n",
    "    Reads the gzipped files\n",
    "    Raises:\n",
    "        Exception: Any error message\n",
    "    \"\"\"\n",
    "    directory = r\"C:\\Work\\Last-Mile-Project_TGB\\Files\"\n",
    "    try:\n",
    "        if not os.path.exists(directory):\n",
    "            os.makedirs(directory)\n",
    "    except Exception as e:\n",
    "        print('ensure_directory_exist: ' + re)\n",
    "    for filename in os.listdir(directory):\n",
    "        file_extension = filename.split('.')[-1]\n",
    "        if file_extension == 'gz':\n",
    "            k = gzip.open(os.path.join(directory, filename), 'r')\n",
    "            with k as data:\n",
    "                i = 0\n",
    "                for line in data:\n",
    "                    print(line)\n",
    "                    i +=1\n",
    "                    if i==10:\n",
    "                        print(filename + 'read successfully')\n",
    "                        break\n",
    "                    \n",
    "        else:\n",
    "            continue\n"
   ]
  },
  {
   "cell_type": "code",
   "execution_count": 3,
   "metadata": {},
   "outputs": [
    {
     "name": "stdout",
     "output_type": "stream",
     "text": [
      "b'titleId\\tordering\\ttitle\\tregion\\tlanguage\\ttypes\\tattributes\\tisOriginalTitle\\n'\n",
      "b'tt0000001\\t1\\t\\xd0\\x9a\\xd0\\xb0\\xd1\\x80\\xd0\\xbc\\xd0\\xb5\\xd0\\xbd\\xd1\\x81\\xd1\\x96\\xd1\\x82\\xd0\\xb0\\tUA\\t\\\\N\\timdbDisplay\\t\\\\N\\t0\\n'\n",
      "b'tt0000001\\t2\\tCarmencita\\tDE\\t\\\\N\\t\\\\N\\tliteral title\\t0\\n'\n",
      "b'tt0000001\\t3\\tCarmencita - spanyol t\\xc3\\xa1nc\\tHU\\t\\\\N\\timdbDisplay\\t\\\\N\\t0\\n'\n",
      "b'tt0000001\\t4\\t\\xce\\x9a\\xce\\xb1\\xcf\\x81\\xce\\xbc\\xce\\xb5\\xce\\xbd\\xcf\\x83\\xce\\xaf\\xcf\\x84\\xce\\xb1\\tGR\\t\\\\N\\timdbDisplay\\t\\\\N\\t0\\n'\n",
      "b'tt0000001\\t5\\t\\xd0\\x9a\\xd0\\xb0\\xd1\\x80\\xd0\\xbc\\xd0\\xb5\\xd0\\xbd\\xd1\\x81\\xd0\\xb8\\xd1\\x82\\xd0\\xb0\\tRU\\t\\\\N\\timdbDisplay\\t\\\\N\\t0\\n'\n",
      "b'tt0000001\\t6\\tCarmencita\\tUS\\t\\\\N\\timdbDisplay\\t\\\\N\\t0\\n'\n",
      "b'tt0000001\\t7\\tCarmencita\\t\\\\N\\t\\\\N\\toriginal\\t\\\\N\\t1\\n'\n",
      "b'tt0000001\\t8\\t\\xe3\\x82\\xab\\xe3\\x83\\xab\\xe3\\x83\\xa1\\xe3\\x83\\xb3\\xe3\\x83\\x81\\xe3\\x83\\xbc\\xe3\\x82\\xbf\\tJP\\tja\\timdbDisplay\\t\\\\N\\t0\\n'\n",
      "b'tt0000002\\t1\\tLe clown et ses chiens\\t\\\\N\\t\\\\N\\toriginal\\t\\\\N\\t1\\n'\n",
      "title.akas.tsv.gzread successfully\n",
      "b'tconst\\ttitleType\\tprimaryTitle\\toriginalTitle\\tisAdult\\tstartYear\\tendYear\\truntimeMinutes\\tgenres\\n'\n",
      "b'tt0000001\\tshort\\tCarmencita\\tCarmencita\\t0\\t1894\\t\\\\N\\t1\\tDocumentary,Short\\n'\n",
      "b'tt0000002\\tshort\\tLe clown et ses chiens\\tLe clown et ses chiens\\t0\\t1892\\t\\\\N\\t5\\tAnimation,Short\\n'\n",
      "b'tt0000003\\tshort\\tPauvre Pierrot\\tPauvre Pierrot\\t0\\t1892\\t\\\\N\\t4\\tAnimation,Comedy,Romance\\n'\n",
      "b'tt0000004\\tshort\\tUn bon bock\\tUn bon bock\\t0\\t1892\\t\\\\N\\t12\\tAnimation,Short\\n'\n",
      "b'tt0000005\\tshort\\tBlacksmith Scene\\tBlacksmith Scene\\t0\\t1893\\t\\\\N\\t1\\tComedy,Short\\n'\n",
      "b'tt0000006\\tshort\\tChinese Opium Den\\tChinese Opium Den\\t0\\t1894\\t\\\\N\\t1\\tShort\\n'\n",
      "b'tt0000007\\tshort\\tCorbett and Courtney Before the Kinetograph\\tCorbett and Courtney Before the Kinetograph\\t0\\t1894\\t\\\\N\\t1\\tShort,Sport\\n'\n",
      "b'tt0000008\\tshort\\tEdison Kinetoscopic Record of a Sneeze\\tEdison Kinetoscopic Record of a Sneeze\\t0\\t1894\\t\\\\N\\t1\\tDocumentary,Short\\n'\n",
      "b'tt0000009\\tshort\\tMiss Jerry\\tMiss Jerry\\t0\\t1894\\t\\\\N\\t40\\tRomance,Short\\n'\n",
      "title.basics.tsv.gzread successfully\n",
      "b'tconst\\tdirectors\\twriters\\n'\n",
      "b'tt0000001\\tnm0005690\\t\\\\N\\n'\n",
      "b'tt0000002\\tnm0721526\\t\\\\N\\n'\n",
      "b'tt0000003\\tnm0721526\\t\\\\N\\n'\n",
      "b'tt0000004\\tnm0721526\\t\\\\N\\n'\n",
      "b'tt0000005\\tnm0005690\\t\\\\N\\n'\n",
      "b'tt0000006\\tnm0005690\\t\\\\N\\n'\n",
      "b'tt0000007\\tnm0005690,nm0374658\\t\\\\N\\n'\n",
      "b'tt0000008\\tnm0005690\\t\\\\N\\n'\n",
      "b'tt0000009\\tnm0085156\\tnm0085156\\n'\n",
      "title.crew.tsv.gzread successfully\n",
      "b'tconst\\taverageRating\\tnumVotes\\n'\n",
      "b'tt0000001\\t5.7\\t1828\\n'\n",
      "b'tt0000002\\t6.0\\t233\\n'\n",
      "b'tt0000003\\t6.5\\t1581\\n'\n",
      "b'tt0000004\\t6.1\\t151\\n'\n",
      "b'tt0000005\\t6.2\\t2406\\n'\n",
      "b'tt0000006\\t5.2\\t157\\n'\n",
      "b'tt0000007\\t5.4\\t751\\n'\n",
      "b'tt0000008\\t5.5\\t1979\\n'\n",
      "b'tt0000009\\t5.9\\t190\\n'\n",
      "title.ratings.tsv.gzread successfully\n"
     ]
    }
   ],
   "source": [
    "read_file()"
   ]
  },
  {
   "cell_type": "code",
   "execution_count": 4,
   "metadata": {},
   "outputs": [],
   "source": [
    "def return_dataframe(filename, directory):\n",
    "    \"\"\" Reads a file into memory and returns a dataframe.\n",
    "\n",
    "    Args:\n",
    "        filename (str): name of file to read.\n",
    "        path (str, optional): path to the file to read. Defaults to None.\n",
    "\n",
    "    Raises:\n",
    "        ValueError: File type is not supported.\n",
    "        ValueError: Invalid file name\n",
    "        Exception: Any other error message\n",
    "\n",
    "    Returns:\n",
    "        [DataFrame]: The file read into memory as a DataFrame.\n",
    "    \"\"\"\n",
    "    directory = r\"C:\\Work\\Last-Mile-Project_TGB\\Files\"\n",
    "    df = pd.DataFrame()\n",
    "    if len(filename) > 1:\n",
    "        try:\n",
    "            if not directory:\n",
    "                directory = 'Input'\n",
    "\n",
    "            file_type = filename.split('.')[2]\n",
    "            long_file_name = os.path.join(directory, filename) \n",
    "            if file_type == 'tsv':\n",
    "                df = pd.read_csv(long_file_name, sep='\\t', low_memory=False)\n",
    "            elif file_type in ['xls', 'xlsx']:\n",
    "                df = pd.read_excel(long_file_name)\n",
    "            else:\n",
    "                raise ValueError(f\"{file_type} File type is not supported\")\n",
    "        except Exception as e:\n",
    "            print('read_file: ' + repr(e))\n",
    "\n",
    "    else:\n",
    "        raise ValueError(\"Invalid File Name\")\n",
    "\n",
    "    return df"
   ]
  },
  {
   "cell_type": "code",
   "execution_count": 5,
   "metadata": {},
   "outputs": [],
   "source": [
    "Ratings = return_dataframe(filename= 'title.ratings.tsv.gz', directory= \"C:\\Work\\Last-Mile-Project_TGB\\Files\")"
   ]
  },
  {
   "cell_type": "code",
   "execution_count": 6,
   "metadata": {},
   "outputs": [
    {
     "data": {
      "text/plain": [
       "(1194630, 3)"
      ]
     },
     "execution_count": 6,
     "metadata": {},
     "output_type": "execute_result"
    }
   ],
   "source": [
    "Ratings.shape"
   ]
  },
  {
   "cell_type": "code",
   "execution_count": 7,
   "metadata": {},
   "outputs": [
    {
     "data": {
      "text/html": [
       "<div>\n",
       "<style scoped>\n",
       "    .dataframe tbody tr th:only-of-type {\n",
       "        vertical-align: middle;\n",
       "    }\n",
       "\n",
       "    .dataframe tbody tr th {\n",
       "        vertical-align: top;\n",
       "    }\n",
       "\n",
       "    .dataframe thead th {\n",
       "        text-align: right;\n",
       "    }\n",
       "</style>\n",
       "<table border=\"1\" class=\"dataframe\">\n",
       "  <thead>\n",
       "    <tr style=\"text-align: right;\">\n",
       "      <th></th>\n",
       "      <th>tconst</th>\n",
       "      <th>averageRating</th>\n",
       "      <th>numVotes</th>\n",
       "    </tr>\n",
       "  </thead>\n",
       "  <tbody>\n",
       "    <tr>\n",
       "      <th>0</th>\n",
       "      <td>tt0000001</td>\n",
       "      <td>5.7</td>\n",
       "      <td>1828</td>\n",
       "    </tr>\n",
       "    <tr>\n",
       "      <th>1</th>\n",
       "      <td>tt0000002</td>\n",
       "      <td>6.0</td>\n",
       "      <td>233</td>\n",
       "    </tr>\n",
       "    <tr>\n",
       "      <th>2</th>\n",
       "      <td>tt0000003</td>\n",
       "      <td>6.5</td>\n",
       "      <td>1581</td>\n",
       "    </tr>\n",
       "    <tr>\n",
       "      <th>3</th>\n",
       "      <td>tt0000004</td>\n",
       "      <td>6.1</td>\n",
       "      <td>151</td>\n",
       "    </tr>\n",
       "    <tr>\n",
       "      <th>4</th>\n",
       "      <td>tt0000005</td>\n",
       "      <td>6.2</td>\n",
       "      <td>2406</td>\n",
       "    </tr>\n",
       "  </tbody>\n",
       "</table>\n",
       "</div>"
      ],
      "text/plain": [
       "      tconst  averageRating  numVotes\n",
       "0  tt0000001            5.7      1828\n",
       "1  tt0000002            6.0       233\n",
       "2  tt0000003            6.5      1581\n",
       "3  tt0000004            6.1       151\n",
       "4  tt0000005            6.2      2406"
      ]
     },
     "execution_count": 7,
     "metadata": {},
     "output_type": "execute_result"
    }
   ],
   "source": [
    "Ratings.head()"
   ]
  },
  {
   "cell_type": "code",
   "execution_count": 8,
   "metadata": {},
   "outputs": [],
   "source": [
    "Crew = return_dataframe(filename= 'title.crew.tsv.gz', directory= \"C:\\Work\\Last-Mile-Project_TGB\\Files\")"
   ]
  },
  {
   "cell_type": "code",
   "execution_count": 9,
   "metadata": {},
   "outputs": [
    {
     "data": {
      "text/html": [
       "<div>\n",
       "<style scoped>\n",
       "    .dataframe tbody tr th:only-of-type {\n",
       "        vertical-align: middle;\n",
       "    }\n",
       "\n",
       "    .dataframe tbody tr th {\n",
       "        vertical-align: top;\n",
       "    }\n",
       "\n",
       "    .dataframe thead th {\n",
       "        text-align: right;\n",
       "    }\n",
       "</style>\n",
       "<table border=\"1\" class=\"dataframe\">\n",
       "  <thead>\n",
       "    <tr style=\"text-align: right;\">\n",
       "      <th></th>\n",
       "      <th>tconst</th>\n",
       "      <th>directors</th>\n",
       "      <th>writers</th>\n",
       "    </tr>\n",
       "  </thead>\n",
       "  <tbody>\n",
       "    <tr>\n",
       "      <th>0</th>\n",
       "      <td>tt0000001</td>\n",
       "      <td>nm0005690</td>\n",
       "      <td>\\N</td>\n",
       "    </tr>\n",
       "    <tr>\n",
       "      <th>1</th>\n",
       "      <td>tt0000002</td>\n",
       "      <td>nm0721526</td>\n",
       "      <td>\\N</td>\n",
       "    </tr>\n",
       "    <tr>\n",
       "      <th>2</th>\n",
       "      <td>tt0000003</td>\n",
       "      <td>nm0721526</td>\n",
       "      <td>\\N</td>\n",
       "    </tr>\n",
       "    <tr>\n",
       "      <th>3</th>\n",
       "      <td>tt0000004</td>\n",
       "      <td>nm0721526</td>\n",
       "      <td>\\N</td>\n",
       "    </tr>\n",
       "    <tr>\n",
       "      <th>4</th>\n",
       "      <td>tt0000005</td>\n",
       "      <td>nm0005690</td>\n",
       "      <td>\\N</td>\n",
       "    </tr>\n",
       "  </tbody>\n",
       "</table>\n",
       "</div>"
      ],
      "text/plain": [
       "      tconst  directors writers\n",
       "0  tt0000001  nm0005690      \\N\n",
       "1  tt0000002  nm0721526      \\N\n",
       "2  tt0000003  nm0721526      \\N\n",
       "3  tt0000004  nm0721526      \\N\n",
       "4  tt0000005  nm0005690      \\N"
      ]
     },
     "execution_count": 9,
     "metadata": {},
     "output_type": "execute_result"
    }
   ],
   "source": [
    "Crew.head()"
   ]
  },
  {
   "cell_type": "code",
   "execution_count": 10,
   "metadata": {},
   "outputs": [],
   "source": [
    "Basics = return_dataframe(filename= 'title.basics.tsv.gz', directory= \"C:\\Work\\Last-Mile-Project_TGB\\Files\")"
   ]
  },
  {
   "cell_type": "code",
   "execution_count": 11,
   "metadata": {},
   "outputs": [
    {
     "data": {
      "text/plain": [
       "(8353147, 9)"
      ]
     },
     "execution_count": 11,
     "metadata": {},
     "output_type": "execute_result"
    }
   ],
   "source": [
    "Basics.shape"
   ]
  },
  {
   "cell_type": "code",
   "execution_count": 12,
   "metadata": {},
   "outputs": [
    {
     "data": {
      "text/html": [
       "<div>\n",
       "<style scoped>\n",
       "    .dataframe tbody tr th:only-of-type {\n",
       "        vertical-align: middle;\n",
       "    }\n",
       "\n",
       "    .dataframe tbody tr th {\n",
       "        vertical-align: top;\n",
       "    }\n",
       "\n",
       "    .dataframe thead th {\n",
       "        text-align: right;\n",
       "    }\n",
       "</style>\n",
       "<table border=\"1\" class=\"dataframe\">\n",
       "  <thead>\n",
       "    <tr style=\"text-align: right;\">\n",
       "      <th></th>\n",
       "      <th>tconst</th>\n",
       "      <th>titleType</th>\n",
       "      <th>primaryTitle</th>\n",
       "      <th>originalTitle</th>\n",
       "      <th>isAdult</th>\n",
       "      <th>startYear</th>\n",
       "      <th>endYear</th>\n",
       "      <th>runtimeMinutes</th>\n",
       "      <th>genres</th>\n",
       "    </tr>\n",
       "  </thead>\n",
       "  <tbody>\n",
       "    <tr>\n",
       "      <th>0</th>\n",
       "      <td>tt0000001</td>\n",
       "      <td>short</td>\n",
       "      <td>Carmencita</td>\n",
       "      <td>Carmencita</td>\n",
       "      <td>0</td>\n",
       "      <td>1894</td>\n",
       "      <td>\\N</td>\n",
       "      <td>1</td>\n",
       "      <td>Documentary,Short</td>\n",
       "    </tr>\n",
       "    <tr>\n",
       "      <th>1</th>\n",
       "      <td>tt0000002</td>\n",
       "      <td>short</td>\n",
       "      <td>Le clown et ses chiens</td>\n",
       "      <td>Le clown et ses chiens</td>\n",
       "      <td>0</td>\n",
       "      <td>1892</td>\n",
       "      <td>\\N</td>\n",
       "      <td>5</td>\n",
       "      <td>Animation,Short</td>\n",
       "    </tr>\n",
       "    <tr>\n",
       "      <th>2</th>\n",
       "      <td>tt0000003</td>\n",
       "      <td>short</td>\n",
       "      <td>Pauvre Pierrot</td>\n",
       "      <td>Pauvre Pierrot</td>\n",
       "      <td>0</td>\n",
       "      <td>1892</td>\n",
       "      <td>\\N</td>\n",
       "      <td>4</td>\n",
       "      <td>Animation,Comedy,Romance</td>\n",
       "    </tr>\n",
       "    <tr>\n",
       "      <th>3</th>\n",
       "      <td>tt0000004</td>\n",
       "      <td>short</td>\n",
       "      <td>Un bon bock</td>\n",
       "      <td>Un bon bock</td>\n",
       "      <td>0</td>\n",
       "      <td>1892</td>\n",
       "      <td>\\N</td>\n",
       "      <td>12</td>\n",
       "      <td>Animation,Short</td>\n",
       "    </tr>\n",
       "    <tr>\n",
       "      <th>4</th>\n",
       "      <td>tt0000005</td>\n",
       "      <td>short</td>\n",
       "      <td>Blacksmith Scene</td>\n",
       "      <td>Blacksmith Scene</td>\n",
       "      <td>0</td>\n",
       "      <td>1893</td>\n",
       "      <td>\\N</td>\n",
       "      <td>1</td>\n",
       "      <td>Comedy,Short</td>\n",
       "    </tr>\n",
       "  </tbody>\n",
       "</table>\n",
       "</div>"
      ],
      "text/plain": [
       "      tconst titleType            primaryTitle           originalTitle  \\\n",
       "0  tt0000001     short              Carmencita              Carmencita   \n",
       "1  tt0000002     short  Le clown et ses chiens  Le clown et ses chiens   \n",
       "2  tt0000003     short          Pauvre Pierrot          Pauvre Pierrot   \n",
       "3  tt0000004     short             Un bon bock             Un bon bock   \n",
       "4  tt0000005     short        Blacksmith Scene        Blacksmith Scene   \n",
       "\n",
       "  isAdult startYear endYear runtimeMinutes                    genres  \n",
       "0       0      1894      \\N              1         Documentary,Short  \n",
       "1       0      1892      \\N              5           Animation,Short  \n",
       "2       0      1892      \\N              4  Animation,Comedy,Romance  \n",
       "3       0      1892      \\N             12           Animation,Short  \n",
       "4       0      1893      \\N              1              Comedy,Short  "
      ]
     },
     "execution_count": 12,
     "metadata": {},
     "output_type": "execute_result"
    }
   ],
   "source": [
    "Basics.head()"
   ]
  },
  {
   "cell_type": "code",
   "execution_count": 13,
   "metadata": {},
   "outputs": [],
   "source": [
    "#Akas = return_dataframe(filename= 'title.akas.tsv.gz', directory= \"C:\\Work\\Last-Mile-Project_TGB\\Files\" )"
   ]
  },
  {
   "cell_type": "code",
   "execution_count": 14,
   "metadata": {},
   "outputs": [],
   "source": [
    "#Akas.head()"
   ]
  },
  {
   "cell_type": "code",
   "execution_count": 15,
   "metadata": {},
   "outputs": [],
   "source": [
    "#Akas.shape#rename(columns= {'titleId':'tconst'})"
   ]
  },
  {
   "cell_type": "code",
   "execution_count": 16,
   "metadata": {},
   "outputs": [
    {
     "data": {
      "text/plain": [
       "(8353147, 3)"
      ]
     },
     "execution_count": 16,
     "metadata": {},
     "output_type": "execute_result"
    }
   ],
   "source": [
    "Crew.shape"
   ]
  },
  {
   "cell_type": "code",
   "execution_count": 17,
   "metadata": {},
   "outputs": [],
   "source": [
    "#Akas.head()"
   ]
  },
  {
   "cell_type": "code",
   "execution_count": 18,
   "metadata": {},
   "outputs": [],
   "source": [
    "#Akas.columns = ['tconst','ordering','title','region','language','types','attributes','isOriginalTitle']"
   ]
  },
  {
   "cell_type": "code",
   "execution_count": 19,
   "metadata": {},
   "outputs": [],
   "source": [
    "#Akas.head()"
   ]
  },
  {
   "cell_type": "code",
   "execution_count": 20,
   "metadata": {},
   "outputs": [],
   "source": [
    "#Akas.shape"
   ]
  },
  {
   "cell_type": "code",
   "execution_count": 21,
   "metadata": {},
   "outputs": [],
   "source": [
    " #Couldn't add the Akas dataframe due to the filesize which was too large for my machine to handle"
   ]
  },
  {
   "cell_type": "code",
   "execution_count": 22,
   "metadata": {},
   "outputs": [],
   "source": [
    "## throw different dataframes into a list and merge based on the \"tconst\" column\n",
    "data_frames = [Ratings, Crew, Basics]\n",
    "\n",
    "IMDB = reduce(lambda left,right: pd.merge(left,right, on= ['tconst'], how='outer'), data_frames)"
   ]
  },
  {
   "cell_type": "code",
   "execution_count": 23,
   "metadata": {},
   "outputs": [],
   "source": [
    "IMDB_data = IMDB.sample(n=10000)"
   ]
  },
  {
   "cell_type": "code",
   "execution_count": 24,
   "metadata": {},
   "outputs": [
    {
     "data": {
      "text/html": [
       "<div>\n",
       "<style scoped>\n",
       "    .dataframe tbody tr th:only-of-type {\n",
       "        vertical-align: middle;\n",
       "    }\n",
       "\n",
       "    .dataframe tbody tr th {\n",
       "        vertical-align: top;\n",
       "    }\n",
       "\n",
       "    .dataframe thead th {\n",
       "        text-align: right;\n",
       "    }\n",
       "</style>\n",
       "<table border=\"1\" class=\"dataframe\">\n",
       "  <thead>\n",
       "    <tr style=\"text-align: right;\">\n",
       "      <th></th>\n",
       "      <th>tconst</th>\n",
       "      <th>averageRating</th>\n",
       "      <th>numVotes</th>\n",
       "      <th>directors</th>\n",
       "      <th>writers</th>\n",
       "      <th>titleType</th>\n",
       "      <th>primaryTitle</th>\n",
       "      <th>originalTitle</th>\n",
       "      <th>isAdult</th>\n",
       "      <th>startYear</th>\n",
       "      <th>endYear</th>\n",
       "      <th>runtimeMinutes</th>\n",
       "      <th>genres</th>\n",
       "    </tr>\n",
       "  </thead>\n",
       "  <tbody>\n",
       "    <tr>\n",
       "      <th>4777064</th>\n",
       "      <td>tt1675485</td>\n",
       "      <td>NaN</td>\n",
       "      <td>NaN</td>\n",
       "      <td>nm0899452</td>\n",
       "      <td>nm1932936</td>\n",
       "      <td>tvEpisode</td>\n",
       "      <td>Episode dated 7 February 1976</td>\n",
       "      <td>Episode dated 7 February 1976</td>\n",
       "      <td>0</td>\n",
       "      <td>1976</td>\n",
       "      <td>\\N</td>\n",
       "      <td>\\N</td>\n",
       "      <td>Music</td>\n",
       "    </tr>\n",
       "    <tr>\n",
       "      <th>6761150</th>\n",
       "      <td>tt6159264</td>\n",
       "      <td>NaN</td>\n",
       "      <td>NaN</td>\n",
       "      <td>nm1524846,nm0735305</td>\n",
       "      <td>\\N</td>\n",
       "      <td>short</td>\n",
       "      <td>Riportfilm a repülönapról</td>\n",
       "      <td>Riportfilm a repülönapról</td>\n",
       "      <td>0</td>\n",
       "      <td>1951</td>\n",
       "      <td>\\N</td>\n",
       "      <td>\\N</td>\n",
       "      <td>Documentary,Short</td>\n",
       "    </tr>\n",
       "    <tr>\n",
       "      <th>5717404</th>\n",
       "      <td>tt3439336</td>\n",
       "      <td>NaN</td>\n",
       "      <td>NaN</td>\n",
       "      <td>nm1887291</td>\n",
       "      <td>\\N</td>\n",
       "      <td>tvEpisode</td>\n",
       "      <td>Pilot</td>\n",
       "      <td>Pilot</td>\n",
       "      <td>0</td>\n",
       "      <td>2011</td>\n",
       "      <td>\\N</td>\n",
       "      <td>44</td>\n",
       "      <td>Reality-TV</td>\n",
       "    </tr>\n",
       "    <tr>\n",
       "      <th>2303189</th>\n",
       "      <td>tt11122894</td>\n",
       "      <td>NaN</td>\n",
       "      <td>NaN</td>\n",
       "      <td>nm1094767</td>\n",
       "      <td>\\N</td>\n",
       "      <td>video</td>\n",
       "      <td>Midnight Oil: In the Valley</td>\n",
       "      <td>Midnight Oil: In the Valley</td>\n",
       "      <td>0</td>\n",
       "      <td>1993</td>\n",
       "      <td>\\N</td>\n",
       "      <td>5</td>\n",
       "      <td>Music,Short</td>\n",
       "    </tr>\n",
       "    <tr>\n",
       "      <th>5974041</th>\n",
       "      <td>tt4121140</td>\n",
       "      <td>NaN</td>\n",
       "      <td>NaN</td>\n",
       "      <td>\\N</td>\n",
       "      <td>\\N</td>\n",
       "      <td>tvEpisode</td>\n",
       "      <td>Episode #1.48</td>\n",
       "      <td>Episode #1.48</td>\n",
       "      <td>0</td>\n",
       "      <td>1962</td>\n",
       "      <td>\\N</td>\n",
       "      <td>\\N</td>\n",
       "      <td>Comedy,Music,Talk-Show</td>\n",
       "    </tr>\n",
       "  </tbody>\n",
       "</table>\n",
       "</div>"
      ],
      "text/plain": [
       "             tconst  averageRating  numVotes            directors    writers  \\\n",
       "4777064   tt1675485            NaN       NaN            nm0899452  nm1932936   \n",
       "6761150   tt6159264            NaN       NaN  nm1524846,nm0735305         \\N   \n",
       "5717404   tt3439336            NaN       NaN            nm1887291         \\N   \n",
       "2303189  tt11122894            NaN       NaN            nm1094767         \\N   \n",
       "5974041   tt4121140            NaN       NaN                   \\N         \\N   \n",
       "\n",
       "         titleType                   primaryTitle  \\\n",
       "4777064  tvEpisode  Episode dated 7 February 1976   \n",
       "6761150      short      Riportfilm a repülönapról   \n",
       "5717404  tvEpisode                          Pilot   \n",
       "2303189      video    Midnight Oil: In the Valley   \n",
       "5974041  tvEpisode                  Episode #1.48   \n",
       "\n",
       "                         originalTitle isAdult startYear endYear  \\\n",
       "4777064  Episode dated 7 February 1976       0      1976      \\N   \n",
       "6761150      Riportfilm a repülönapról       0      1951      \\N   \n",
       "5717404                          Pilot       0      2011      \\N   \n",
       "2303189    Midnight Oil: In the Valley       0      1993      \\N   \n",
       "5974041                  Episode #1.48       0      1962      \\N   \n",
       "\n",
       "        runtimeMinutes                  genres  \n",
       "4777064             \\N                   Music  \n",
       "6761150             \\N       Documentary,Short  \n",
       "5717404             44              Reality-TV  \n",
       "2303189              5             Music,Short  \n",
       "5974041             \\N  Comedy,Music,Talk-Show  "
      ]
     },
     "execution_count": 24,
     "metadata": {},
     "output_type": "execute_result"
    }
   ],
   "source": [
    "IMDB_data.tail()"
   ]
  },
  {
   "cell_type": "code",
   "execution_count": 25,
   "metadata": {},
   "outputs": [
    {
     "name": "stdout",
     "output_type": "stream",
     "text": [
      "<class 'pandas.core.frame.DataFrame'>\n",
      "Int64Index: 10000 entries, 449277 to 5974041\n",
      "Data columns (total 13 columns):\n",
      " #   Column          Non-Null Count  Dtype  \n",
      "---  ------          --------------  -----  \n",
      " 0   tconst          10000 non-null  object \n",
      " 1   averageRating   1404 non-null   float64\n",
      " 2   numVotes        1404 non-null   float64\n",
      " 3   directors       10000 non-null  object \n",
      " 4   writers         10000 non-null  object \n",
      " 5   titleType       10000 non-null  object \n",
      " 6   primaryTitle    10000 non-null  object \n",
      " 7   originalTitle   10000 non-null  object \n",
      " 8   isAdult         10000 non-null  object \n",
      " 9   startYear       10000 non-null  object \n",
      " 10  endYear         10000 non-null  object \n",
      " 11  runtimeMinutes  10000 non-null  object \n",
      " 12  genres          10000 non-null  object \n",
      "dtypes: float64(2), object(11)\n",
      "memory usage: 1.1+ MB\n"
     ]
    }
   ],
   "source": [
    "IMDB_data.info()"
   ]
  },
  {
   "cell_type": "code",
   "execution_count": 51,
   "metadata": {},
   "outputs": [
    {
     "ename": "ValueError",
     "evalue": "Unable to parse string \"tt10115562\" at position 0",
     "output_type": "error",
     "traceback": [
      "\u001b[1;31m---------------------------------------------------------------------------\u001b[0m",
      "\u001b[1;31mValueError\u001b[0m                                Traceback (most recent call last)",
      "\u001b[1;32mpandas\\_libs\\lib.pyx\u001b[0m in \u001b[0;36mpandas._libs.lib.maybe_convert_numeric\u001b[1;34m()\u001b[0m\n",
      "\u001b[1;31mValueError\u001b[0m: Unable to parse string \"tt10115562\"",
      "\nDuring handling of the above exception, another exception occurred:\n",
      "\u001b[1;31mValueError\u001b[0m                                Traceback (most recent call last)",
      "\u001b[1;32m<ipython-input-51-a2c49001b6a0>\u001b[0m in \u001b[0;36m<module>\u001b[1;34m\u001b[0m\n\u001b[0;32m      1\u001b[0m \u001b[1;31m#Convert tconst column which is the primary column into an int\u001b[0m\u001b[1;33m\u001b[0m\u001b[1;33m\u001b[0m\u001b[1;33m\u001b[0m\u001b[0m\n\u001b[1;32m----> 2\u001b[1;33m \u001b[0mIMDB_data\u001b[0m\u001b[1;33m[\u001b[0m\u001b[1;34m'tconst'\u001b[0m\u001b[1;33m]\u001b[0m \u001b[1;33m=\u001b[0m \u001b[0mpd\u001b[0m\u001b[1;33m.\u001b[0m\u001b[0mto_numeric\u001b[0m\u001b[1;33m(\u001b[0m\u001b[0mIMDB_data\u001b[0m\u001b[1;33m[\u001b[0m\u001b[1;34m'tconst'\u001b[0m\u001b[1;33m]\u001b[0m\u001b[1;33m)\u001b[0m\u001b[1;33m\u001b[0m\u001b[1;33m\u001b[0m\u001b[0m\n\u001b[0m",
      "\u001b[1;32m~\\anaconda3\\lib\\site-packages\\pandas\\core\\tools\\numeric.py\u001b[0m in \u001b[0;36mto_numeric\u001b[1;34m(arg, errors, downcast)\u001b[0m\n\u001b[0;32m    150\u001b[0m         \u001b[0mcoerce_numeric\u001b[0m \u001b[1;33m=\u001b[0m \u001b[0merrors\u001b[0m \u001b[1;32mnot\u001b[0m \u001b[1;32min\u001b[0m \u001b[1;33m(\u001b[0m\u001b[1;34m\"ignore\"\u001b[0m\u001b[1;33m,\u001b[0m \u001b[1;34m\"raise\"\u001b[0m\u001b[1;33m)\u001b[0m\u001b[1;33m\u001b[0m\u001b[1;33m\u001b[0m\u001b[0m\n\u001b[0;32m    151\u001b[0m         \u001b[1;32mtry\u001b[0m\u001b[1;33m:\u001b[0m\u001b[1;33m\u001b[0m\u001b[1;33m\u001b[0m\u001b[0m\n\u001b[1;32m--> 152\u001b[1;33m             values = lib.maybe_convert_numeric(\n\u001b[0m\u001b[0;32m    153\u001b[0m                 \u001b[0mvalues\u001b[0m\u001b[1;33m,\u001b[0m \u001b[0mset\u001b[0m\u001b[1;33m(\u001b[0m\u001b[1;33m)\u001b[0m\u001b[1;33m,\u001b[0m \u001b[0mcoerce_numeric\u001b[0m\u001b[1;33m=\u001b[0m\u001b[0mcoerce_numeric\u001b[0m\u001b[1;33m\u001b[0m\u001b[1;33m\u001b[0m\u001b[0m\n\u001b[0;32m    154\u001b[0m             )\n",
      "\u001b[1;32mpandas\\_libs\\lib.pyx\u001b[0m in \u001b[0;36mpandas._libs.lib.maybe_convert_numeric\u001b[1;34m()\u001b[0m\n",
      "\u001b[1;31mValueError\u001b[0m: Unable to parse string \"tt10115562\" at position 0"
     ]
    }
   ],
   "source": [
    "#Convert tconst column which is the primary column into an int\n",
    "IMDB_data['tconst'] = pd.to_numeric(IMDB_data['tconst'])"
   ]
  },
  {
   "cell_type": "code",
   "execution_count": 26,
   "metadata": {},
   "outputs": [
    {
     "data": {
      "text/html": [
       "<div>\n",
       "<style scoped>\n",
       "    .dataframe tbody tr th:only-of-type {\n",
       "        vertical-align: middle;\n",
       "    }\n",
       "\n",
       "    .dataframe tbody tr th {\n",
       "        vertical-align: top;\n",
       "    }\n",
       "\n",
       "    .dataframe thead th {\n",
       "        text-align: right;\n",
       "    }\n",
       "</style>\n",
       "<table border=\"1\" class=\"dataframe\">\n",
       "  <thead>\n",
       "    <tr style=\"text-align: right;\">\n",
       "      <th></th>\n",
       "      <th>averageRating</th>\n",
       "      <th>numVotes</th>\n",
       "    </tr>\n",
       "  </thead>\n",
       "  <tbody>\n",
       "    <tr>\n",
       "      <th>count</th>\n",
       "      <td>1404.000000</td>\n",
       "      <td>1.404000e+03</td>\n",
       "    </tr>\n",
       "    <tr>\n",
       "      <th>mean</th>\n",
       "      <td>6.928490</td>\n",
       "      <td>2.289644e+03</td>\n",
       "    </tr>\n",
       "    <tr>\n",
       "      <th>std</th>\n",
       "      <td>1.425568</td>\n",
       "      <td>5.143868e+04</td>\n",
       "    </tr>\n",
       "    <tr>\n",
       "      <th>min</th>\n",
       "      <td>1.000000</td>\n",
       "      <td>5.000000e+00</td>\n",
       "    </tr>\n",
       "    <tr>\n",
       "      <th>25%</th>\n",
       "      <td>6.200000</td>\n",
       "      <td>1.000000e+01</td>\n",
       "    </tr>\n",
       "    <tr>\n",
       "      <th>50%</th>\n",
       "      <td>7.100000</td>\n",
       "      <td>2.300000e+01</td>\n",
       "    </tr>\n",
       "    <tr>\n",
       "      <th>75%</th>\n",
       "      <td>7.900000</td>\n",
       "      <td>9.100000e+01</td>\n",
       "    </tr>\n",
       "    <tr>\n",
       "      <th>max</th>\n",
       "      <td>10.000000</td>\n",
       "      <td>1.882912e+06</td>\n",
       "    </tr>\n",
       "  </tbody>\n",
       "</table>\n",
       "</div>"
      ],
      "text/plain": [
       "       averageRating      numVotes\n",
       "count    1404.000000  1.404000e+03\n",
       "mean        6.928490  2.289644e+03\n",
       "std         1.425568  5.143868e+04\n",
       "min         1.000000  5.000000e+00\n",
       "25%         6.200000  1.000000e+01\n",
       "50%         7.100000  2.300000e+01\n",
       "75%         7.900000  9.100000e+01\n",
       "max        10.000000  1.882912e+06"
      ]
     },
     "execution_count": 26,
     "metadata": {},
     "output_type": "execute_result"
    }
   ],
   "source": [
    "IMDB_data.describe() "
   ]
  },
  {
   "cell_type": "code",
   "execution_count": 27,
   "metadata": {},
   "outputs": [],
   "source": [
    "from sklearn.feature_extraction.text import CountVectorizer\n",
    "from sklearn.metrics.pairwise import cosine_similarity"
   ]
  },
  {
   "cell_type": "code",
   "execution_count": 28,
   "metadata": {},
   "outputs": [],
   "source": [
    "## Helper fuctions to be used when needed\n",
    "\n",
    "def get_title_from_index(tconst):\n",
    "    return IMDB_data[IMDB_data.tconst == tconst][\"originalTitle\"].values[0]\n",
    "\n",
    "def get_index_from_title(originalTitle):\n",
    "    return IMDB_data[IMDB_data.originalTitle == originalTitle][\"tconst\"].values[0]"
   ]
  },
  {
   "cell_type": "code",
   "execution_count": 29,
   "metadata": {},
   "outputs": [
    {
     "data": {
      "text/plain": [
       "<function __main__.get_title_from_index(tconst)>"
      ]
     },
     "execution_count": 29,
     "metadata": {},
     "output_type": "execute_result"
    }
   ],
   "source": [
    "get_title_from_index"
   ]
  },
  {
   "cell_type": "code",
   "execution_count": 30,
   "metadata": {},
   "outputs": [
    {
     "data": {
      "text/plain": [
       "<function __main__.get_index_from_title(originalTitle)>"
      ]
     },
     "execution_count": 30,
     "metadata": {},
     "output_type": "execute_result"
    }
   ],
   "source": [
    "get_index_from_title"
   ]
  },
  {
   "cell_type": "code",
   "execution_count": 31,
   "metadata": {},
   "outputs": [],
   "source": [
    "##select features\n",
    "\n",
    "features = ['directors','writers','titleType','originalTitle','genres']\n",
    "\n",
    "for feature in features:\n",
    "    IMDB_data[feature] = IMDB_data[feature].astype(str)\n",
    "    IMDB_data[feature] = IMDB_data[feature].fillna('')\n",
    "    \n"
   ]
  },
  {
   "cell_type": "code",
   "execution_count": 32,
   "metadata": {},
   "outputs": [
    {
     "data": {
      "text/plain": [
       "4777064                     Music\n",
       "6761150         Documentary,Short\n",
       "5717404                Reality-TV\n",
       "2303189               Music,Short\n",
       "5974041    Comedy,Music,Talk-Show\n",
       "Name: genres, dtype: object"
      ]
     },
     "execution_count": 32,
     "metadata": {},
     "output_type": "execute_result"
    }
   ],
   "source": [
    "IMDB_data[feature].tail()"
   ]
  },
  {
   "cell_type": "code",
   "execution_count": 33,
   "metadata": {},
   "outputs": [
    {
     "data": {
      "text/plain": [
       "(10000,)"
      ]
     },
     "execution_count": 33,
     "metadata": {},
     "output_type": "execute_result"
    }
   ],
   "source": [
    "IMDB_data[feature].shape"
   ]
  },
  {
   "cell_type": "code",
   "execution_count": 34,
   "metadata": {},
   "outputs": [
    {
     "name": "stdout",
     "output_type": "stream",
     "text": [
      "449277          nm0393394 nm0393394 movie Chambre 212 Comedy\n",
      "8104768      \\N \\N tvEpisode Twisted up like a pretzel Adult\n",
      "2215365         nm0022750 \\N tvEpisode Episode #3.178 Comedy\n",
      "1842985    nm0960965,nm1966600,nm8932411,nm7182028,nm8408...\n",
      "5966797    \\N nm0882973 tvEpisode Episode #4.25 Comedy,Ro...\n",
      "Name: combined_features, dtype: object\n"
     ]
    }
   ],
   "source": [
    "##create a column in dataframe which combines all selected features\n",
    "\n",
    "def combine_features(row):\n",
    "    return row['directors'] +\" \"+row['writers']+\" \"+row['titleType']+\" \"+row['originalTitle']+\" \"+row['genres']\n",
    "IMDB_data[\"combined_features\"] = IMDB_data.apply(combine_features,axis=1)\n",
    "\n",
    "print(IMDB_data[\"combined_features\"].head())"
   ]
  },
  {
   "cell_type": "code",
   "execution_count": 41,
   "metadata": {},
   "outputs": [],
   "source": [
    "movie_user_likes = \"Midnight Oil: In the Valley\"\n",
    "\n",
    "#create count matrix from this new combined column\n",
    "cv = CountVectorizer()\n",
    "\n",
    "count_matrix = cv.fit_transform(IMDB_data[\"combined_features\"])\n",
    "\n",
    "#Compute the Cosine Similarity based on the count_matrix\n",
    "cosine_sim = cosine_similarity(count_matrix)"
   ]
  },
  {
   "cell_type": "code",
   "execution_count": 42,
   "metadata": {},
   "outputs": [
    {
     "name": "stdout",
     "output_type": "stream",
     "text": [
      "  (0, 701)\t1\n",
      "  (0, 2787)\t1\n",
      "  (0, 3838)\t1\n",
      "  (0, 7034)\t1\n",
      "  (0, 22114)\t1\n",
      "  (0, 22830)\t1\n",
      "  (0, 23320)\t1\n"
     ]
    }
   ],
   "source": [
    "###Analysing the reason for the empty list in sorted_similar_movies\n",
    "i= 0\n",
    "for l in count_matrix:\n",
    "    i=+1\n",
    "    if i>5:\n",
    "        break\n",
    "print(l)\n",
    "\n"
   ]
  },
  {
   "cell_type": "code",
   "execution_count": 43,
   "metadata": {},
   "outputs": [
    {
     "name": "stdout",
     "output_type": "stream",
     "text": [
      "[0.13363062 0.15430335 0.50709255 ... 0.16903085 0.12598816 1.        ]\n"
     ]
    }
   ],
   "source": [
    "###Analysing the reason for the empty list in sorted_similar_movies\n",
    "j=0\n",
    "for count in cosine_sim:\n",
    "    j=+1\n",
    "    if j>5:\n",
    "        break\n",
    "print(count)"
   ]
  },
  {
   "cell_type": "code",
   "execution_count": 45,
   "metadata": {},
   "outputs": [],
   "source": [
    "### use helper fuctions\n",
    "movie_index = get_index_from_title(movie_user_likes)"
   ]
  },
  {
   "cell_type": "code",
   "execution_count": 47,
   "metadata": {},
   "outputs": [
    {
     "name": "stdout",
     "output_type": "stream",
     "text": [
      "4\n"
     ]
    }
   ],
   "source": [
    "#movie_index\n",
    "j=0\n",
    "for count in movie_index:\n",
    "    j=+1\n",
    "    if j>5:\n",
    "        break\n",
    "print(count)"
   ]
  },
  {
   "cell_type": "code",
   "execution_count": 48,
   "metadata": {},
   "outputs": [
    {
     "name": "stdout",
     "output_type": "stream",
     "text": [
      "<class 'str'>\n"
     ]
    }
   ],
   "source": [
    "print(type(movie_index))"
   ]
  },
  {
   "cell_type": "code",
   "execution_count": 49,
   "metadata": {},
   "outputs": [
    {
     "ename": "AttributeError",
     "evalue": "'str' object has no attribute 'astype'",
     "output_type": "error",
     "traceback": [
      "\u001b[1;31m---------------------------------------------------------------------------\u001b[0m",
      "\u001b[1;31mAttributeError\u001b[0m                            Traceback (most recent call last)",
      "\u001b[1;32m<ipython-input-49-da14f8e95355>\u001b[0m in \u001b[0;36m<module>\u001b[1;34m\u001b[0m\n\u001b[1;32m----> 1\u001b[1;33m \u001b[0mmovie_index\u001b[0m\u001b[1;33m.\u001b[0m\u001b[0mastype\u001b[0m\u001b[1;33m(\u001b[0m\u001b[0mint\u001b[0m\u001b[1;33m)\u001b[0m\u001b[1;33m\u001b[0m\u001b[1;33m\u001b[0m\u001b[0m\n\u001b[0m",
      "\u001b[1;31mAttributeError\u001b[0m: 'str' object has no attribute 'astype'"
     ]
    }
   ],
   "source": [
    "movie_index.astype(int)"
   ]
  },
  {
   "cell_type": "code",
   "execution_count": 46,
   "metadata": {},
   "outputs": [
    {
     "ename": "IndexError",
     "evalue": "only integers, slices (`:`), ellipsis (`...`), numpy.newaxis (`None`) and integer or boolean arrays are valid indices",
     "output_type": "error",
     "traceback": [
      "\u001b[1;31m---------------------------------------------------------------------------\u001b[0m",
      "\u001b[1;31mIndexError\u001b[0m                                Traceback (most recent call last)",
      "\u001b[1;32m<ipython-input-46-867572ebaf2e>\u001b[0m in \u001b[0;36m<module>\u001b[1;34m\u001b[0m\n\u001b[1;32m----> 1\u001b[1;33m \u001b[0msimilar_movies\u001b[0m \u001b[1;33m=\u001b[0m \u001b[0mlist\u001b[0m\u001b[1;33m(\u001b[0m\u001b[0menumerate\u001b[0m\u001b[1;33m(\u001b[0m\u001b[0mcosine_sim\u001b[0m\u001b[1;33m[\u001b[0m\u001b[0mmovie_index\u001b[0m\u001b[1;33m]\u001b[0m\u001b[1;33m)\u001b[0m\u001b[1;33m)\u001b[0m\u001b[1;33m\u001b[0m\u001b[1;33m\u001b[0m\u001b[0m\n\u001b[0m",
      "\u001b[1;31mIndexError\u001b[0m: only integers, slices (`:`), ellipsis (`...`), numpy.newaxis (`None`) and integer or boolean arrays are valid indices"
     ]
    }
   ],
   "source": [
    "similar_movies = list(enumerate(cosine_sim[movie_index]))"
   ]
  },
  {
   "cell_type": "code",
   "execution_count": null,
   "metadata": {},
   "outputs": [],
   "source": [
    "###Analysing the reason for the empty list in sorted_similar_movies\n",
    "#j=0\n",
    "#for movies in similar_movies:\n",
    "#    j=+1\n",
    "#    if j>5:\n",
    "#        break\n",
    "print(similar_movies)"
   ]
  },
  {
   "cell_type": "code",
   "execution_count": null,
   "metadata": {},
   "outputs": [],
   "source": [
    "#Get a list of similar movies in descensing order of similarity score\n",
    "sorted_similar_movies = sorted(similar_movies,key=lambda x:x[1],reverse=True)\n",
    "\n",
    "##Print titles of first 50 movies\n",
    "i=0\n",
    "for movie in sorted_similar_movies:\n",
    "    print(get_title_from_index(movie[0]))\n",
    "    i=+1\n",
    "    if i>25:\n",
    "        break"
   ]
  },
  {
   "cell_type": "code",
   "execution_count": null,
   "metadata": {},
   "outputs": [],
   "source": [
    "sorted_similar_movies"
   ]
  },
  {
   "cell_type": "code",
   "execution_count": null,
   "metadata": {},
   "outputs": [],
   "source": []
  }
 ],
 "metadata": {
  "kernelspec": {
   "display_name": "Python 3",
   "language": "python",
   "name": "python3"
  },
  "language_info": {
   "codemirror_mode": {
    "name": "ipython",
    "version": 3
   },
   "file_extension": ".py",
   "mimetype": "text/x-python",
   "name": "python",
   "nbconvert_exporter": "python",
   "pygments_lexer": "ipython3",
   "version": "3.8.5"
  }
 },
 "nbformat": 4,
 "nbformat_minor": 4
}
