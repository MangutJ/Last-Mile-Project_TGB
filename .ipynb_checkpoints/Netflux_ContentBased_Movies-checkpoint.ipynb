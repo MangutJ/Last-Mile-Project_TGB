{
 "cells": [
  {
   "cell_type": "markdown",
   "metadata": {},
   "source": [
    "# NETFLUX Movie Recommendation Engine"
   ]
  },
  {
   "cell_type": "code",
   "execution_count": 1,
   "metadata": {},
   "outputs": [],
   "source": [
    "import pandas as pd\n",
    "import os\n",
    "import zipfile as ZipFile\n",
    "import gzip\n",
    "from functools import reduce \n",
    "# set pandas dataframe global options\n",
    "pd.set_option('display.max_columns', None)\n",
    "pd.set_option('display.max_rows', None)"
   ]
  },
  {
   "cell_type": "markdown",
   "metadata": {},
   "source": [
    "# Ingesting Data"
   ]
  },
  {
   "cell_type": "code",
   "execution_count": 2,
   "metadata": {},
   "outputs": [],
   "source": [
    "def read_file():\n",
    "    \"\"\" Checks if the given directory exists. Creates the directory if it does not exist.\n",
    "\n",
    "    Reads the gzipped files\n",
    "    Raises:\n",
    "        Exception: Any error message\n",
    "    \"\"\"\n",
    "    directory = r\"C:\\Work\\Last-Mile-Project_TGB\\Files\"\n",
    "    try:\n",
    "        if not os.path.exists(directory):\n",
    "            os.makedirs(directory)\n",
    "    except Exception as e:\n",
    "        print('ensure_directory_exist: ' + re)\n",
    "    for filename in os.listdir(directory):\n",
    "        file_extension = filename.split('.')[-1]\n",
    "        if file_extension == 'gz':\n",
    "            k = gzip.open(os.path.join(directory, filename), 'r')\n",
    "            with k as data:\n",
    "                i = 0\n",
    "                for line in data:\n",
    "                    print(line)\n",
    "                    i +=1\n",
    "                    if i==10:\n",
    "                        print(filename + 'read successfully')\n",
    "                        break\n",
    "                    \n",
    "        else:\n",
    "            continue\n"
   ]
  },
  {
   "cell_type": "code",
   "execution_count": 3,
   "metadata": {},
   "outputs": [
    {
     "name": "stdout",
     "output_type": "stream",
     "text": [
      "b'titleId\\tordering\\ttitle\\tregion\\tlanguage\\ttypes\\tattributes\\tisOriginalTitle\\n'\n",
      "b'tt0000001\\t1\\t\\xd0\\x9a\\xd0\\xb0\\xd1\\x80\\xd0\\xbc\\xd0\\xb5\\xd0\\xbd\\xd1\\x81\\xd1\\x96\\xd1\\x82\\xd0\\xb0\\tUA\\t\\\\N\\timdbDisplay\\t\\\\N\\t0\\n'\n",
      "b'tt0000001\\t2\\tCarmencita\\tDE\\t\\\\N\\t\\\\N\\tliteral title\\t0\\n'\n",
      "b'tt0000001\\t3\\tCarmencita - spanyol t\\xc3\\xa1nc\\tHU\\t\\\\N\\timdbDisplay\\t\\\\N\\t0\\n'\n",
      "b'tt0000001\\t4\\t\\xce\\x9a\\xce\\xb1\\xcf\\x81\\xce\\xbc\\xce\\xb5\\xce\\xbd\\xcf\\x83\\xce\\xaf\\xcf\\x84\\xce\\xb1\\tGR\\t\\\\N\\timdbDisplay\\t\\\\N\\t0\\n'\n",
      "b'tt0000001\\t5\\t\\xd0\\x9a\\xd0\\xb0\\xd1\\x80\\xd0\\xbc\\xd0\\xb5\\xd0\\xbd\\xd1\\x81\\xd0\\xb8\\xd1\\x82\\xd0\\xb0\\tRU\\t\\\\N\\timdbDisplay\\t\\\\N\\t0\\n'\n",
      "b'tt0000001\\t6\\tCarmencita\\tUS\\t\\\\N\\timdbDisplay\\t\\\\N\\t0\\n'\n",
      "b'tt0000001\\t7\\tCarmencita\\t\\\\N\\t\\\\N\\toriginal\\t\\\\N\\t1\\n'\n",
      "b'tt0000001\\t8\\t\\xe3\\x82\\xab\\xe3\\x83\\xab\\xe3\\x83\\xa1\\xe3\\x83\\xb3\\xe3\\x83\\x81\\xe3\\x83\\xbc\\xe3\\x82\\xbf\\tJP\\tja\\timdbDisplay\\t\\\\N\\t0\\n'\n",
      "b'tt0000002\\t1\\tLe clown et ses chiens\\t\\\\N\\t\\\\N\\toriginal\\t\\\\N\\t1\\n'\n",
      "title.akas.tsv.gzread successfully\n",
      "b'tconst\\ttitleType\\tprimaryTitle\\toriginalTitle\\tisAdult\\tstartYear\\tendYear\\truntimeMinutes\\tgenres\\n'\n",
      "b'tt0000001\\tshort\\tCarmencita\\tCarmencita\\t0\\t1894\\t\\\\N\\t1\\tDocumentary,Short\\n'\n",
      "b'tt0000002\\tshort\\tLe clown et ses chiens\\tLe clown et ses chiens\\t0\\t1892\\t\\\\N\\t5\\tAnimation,Short\\n'\n",
      "b'tt0000003\\tshort\\tPauvre Pierrot\\tPauvre Pierrot\\t0\\t1892\\t\\\\N\\t4\\tAnimation,Comedy,Romance\\n'\n",
      "b'tt0000004\\tshort\\tUn bon bock\\tUn bon bock\\t0\\t1892\\t\\\\N\\t12\\tAnimation,Short\\n'\n",
      "b'tt0000005\\tshort\\tBlacksmith Scene\\tBlacksmith Scene\\t0\\t1893\\t\\\\N\\t1\\tComedy,Short\\n'\n",
      "b'tt0000006\\tshort\\tChinese Opium Den\\tChinese Opium Den\\t0\\t1894\\t\\\\N\\t1\\tShort\\n'\n",
      "b'tt0000007\\tshort\\tCorbett and Courtney Before the Kinetograph\\tCorbett and Courtney Before the Kinetograph\\t0\\t1894\\t\\\\N\\t1\\tShort,Sport\\n'\n",
      "b'tt0000008\\tshort\\tEdison Kinetoscopic Record of a Sneeze\\tEdison Kinetoscopic Record of a Sneeze\\t0\\t1894\\t\\\\N\\t1\\tDocumentary,Short\\n'\n",
      "b'tt0000009\\tshort\\tMiss Jerry\\tMiss Jerry\\t0\\t1894\\t\\\\N\\t40\\tRomance,Short\\n'\n",
      "title.basics.tsv.gzread successfully\n",
      "b'tconst\\tdirectors\\twriters\\n'\n",
      "b'tt0000001\\tnm0005690\\t\\\\N\\n'\n",
      "b'tt0000002\\tnm0721526\\t\\\\N\\n'\n",
      "b'tt0000003\\tnm0721526\\t\\\\N\\n'\n",
      "b'tt0000004\\tnm0721526\\t\\\\N\\n'\n",
      "b'tt0000005\\tnm0005690\\t\\\\N\\n'\n",
      "b'tt0000006\\tnm0005690\\t\\\\N\\n'\n",
      "b'tt0000007\\tnm0005690,nm0374658\\t\\\\N\\n'\n",
      "b'tt0000008\\tnm0005690\\t\\\\N\\n'\n",
      "b'tt0000009\\tnm0085156\\tnm0085156\\n'\n",
      "title.crew.tsv.gzread successfully\n",
      "b'tconst\\taverageRating\\tnumVotes\\n'\n",
      "b'tt0000001\\t5.7\\t1828\\n'\n",
      "b'tt0000002\\t6.0\\t233\\n'\n",
      "b'tt0000003\\t6.5\\t1581\\n'\n",
      "b'tt0000004\\t6.1\\t151\\n'\n",
      "b'tt0000005\\t6.2\\t2406\\n'\n",
      "b'tt0000006\\t5.2\\t157\\n'\n",
      "b'tt0000007\\t5.4\\t751\\n'\n",
      "b'tt0000008\\t5.5\\t1979\\n'\n",
      "b'tt0000009\\t5.9\\t190\\n'\n",
      "title.ratings.tsv.gzread successfully\n"
     ]
    }
   ],
   "source": [
    "read_file()"
   ]
  },
  {
   "cell_type": "code",
   "execution_count": 4,
   "metadata": {},
   "outputs": [],
   "source": [
    "def return_dataframe(filename, directory):\n",
    "    \"\"\" Reads a file into memory and returns a dataframe.\n",
    "\n",
    "    Args:\n",
    "        filename (str): name of file to read.\n",
    "        path (str, optional): path to the file to read. Defaults to None.\n",
    "\n",
    "    Raises:\n",
    "        ValueError: File type is not supported.\n",
    "        ValueError: Invalid file name\n",
    "        Exception: Any other error message\n",
    "\n",
    "    Returns:\n",
    "        [DataFrame]: The file read into memory as a DataFrame.\n",
    "    \"\"\"\n",
    "    directory = r\"C:\\Work\\Last-Mile-Project_TGB\\Files\"\n",
    "    df = pd.DataFrame()\n",
    "    if len(filename) > 1:\n",
    "        try:\n",
    "            if not directory:\n",
    "                directory = 'Input'\n",
    "\n",
    "            file_type = filename.split('.')[2]\n",
    "            long_file_name = os.path.join(directory, filename) \n",
    "            if file_type == 'tsv':\n",
    "                df = pd.read_csv(long_file_name, sep='\\t', low_memory=False)\n",
    "            elif file_type in ['xls', 'xlsx']:\n",
    "                df = pd.read_excel(long_file_name)\n",
    "            else:\n",
    "                raise ValueError(f\"{file_type} File type is not supported\")\n",
    "        except Exception as e:\n",
    "            print('read_file: ' + repr(e))\n",
    "\n",
    "    else:\n",
    "        raise ValueError(\"Invalid File Name\")\n",
    "\n",
    "    return df"
   ]
  },
  {
   "cell_type": "code",
   "execution_count": 5,
   "metadata": {},
   "outputs": [],
   "source": [
    "Ratings = return_dataframe(filename= 'title.ratings.tsv.gz', directory= \"C:\\Work\\Last-Mile-Project_TGB\\Files\")"
   ]
  },
  {
   "cell_type": "code",
   "execution_count": 6,
   "metadata": {},
   "outputs": [
    {
     "data": {
      "text/plain": [
       "(1194630, 3)"
      ]
     },
     "execution_count": 6,
     "metadata": {},
     "output_type": "execute_result"
    }
   ],
   "source": [
    "Ratings.shape"
   ]
  },
  {
   "cell_type": "code",
   "execution_count": 7,
   "metadata": {},
   "outputs": [
    {
     "data": {
      "text/html": [
       "<div>\n",
       "<style scoped>\n",
       "    .dataframe tbody tr th:only-of-type {\n",
       "        vertical-align: middle;\n",
       "    }\n",
       "\n",
       "    .dataframe tbody tr th {\n",
       "        vertical-align: top;\n",
       "    }\n",
       "\n",
       "    .dataframe thead th {\n",
       "        text-align: right;\n",
       "    }\n",
       "</style>\n",
       "<table border=\"1\" class=\"dataframe\">\n",
       "  <thead>\n",
       "    <tr style=\"text-align: right;\">\n",
       "      <th></th>\n",
       "      <th>tconst</th>\n",
       "      <th>averageRating</th>\n",
       "      <th>numVotes</th>\n",
       "    </tr>\n",
       "  </thead>\n",
       "  <tbody>\n",
       "    <tr>\n",
       "      <th>0</th>\n",
       "      <td>tt0000001</td>\n",
       "      <td>5.7</td>\n",
       "      <td>1828</td>\n",
       "    </tr>\n",
       "    <tr>\n",
       "      <th>1</th>\n",
       "      <td>tt0000002</td>\n",
       "      <td>6.0</td>\n",
       "      <td>233</td>\n",
       "    </tr>\n",
       "    <tr>\n",
       "      <th>2</th>\n",
       "      <td>tt0000003</td>\n",
       "      <td>6.5</td>\n",
       "      <td>1581</td>\n",
       "    </tr>\n",
       "    <tr>\n",
       "      <th>3</th>\n",
       "      <td>tt0000004</td>\n",
       "      <td>6.1</td>\n",
       "      <td>151</td>\n",
       "    </tr>\n",
       "    <tr>\n",
       "      <th>4</th>\n",
       "      <td>tt0000005</td>\n",
       "      <td>6.2</td>\n",
       "      <td>2406</td>\n",
       "    </tr>\n",
       "  </tbody>\n",
       "</table>\n",
       "</div>"
      ],
      "text/plain": [
       "      tconst  averageRating  numVotes\n",
       "0  tt0000001            5.7      1828\n",
       "1  tt0000002            6.0       233\n",
       "2  tt0000003            6.5      1581\n",
       "3  tt0000004            6.1       151\n",
       "4  tt0000005            6.2      2406"
      ]
     },
     "execution_count": 7,
     "metadata": {},
     "output_type": "execute_result"
    }
   ],
   "source": [
    "Ratings.head()"
   ]
  },
  {
   "cell_type": "code",
   "execution_count": 8,
   "metadata": {},
   "outputs": [],
   "source": [
    "Crew = return_dataframe(filename= 'title.crew.tsv.gz', directory= \"C:\\Work\\Last-Mile-Project_TGB\\Files\")"
   ]
  },
  {
   "cell_type": "code",
   "execution_count": 9,
   "metadata": {},
   "outputs": [
    {
     "data": {
      "text/html": [
       "<div>\n",
       "<style scoped>\n",
       "    .dataframe tbody tr th:only-of-type {\n",
       "        vertical-align: middle;\n",
       "    }\n",
       "\n",
       "    .dataframe tbody tr th {\n",
       "        vertical-align: top;\n",
       "    }\n",
       "\n",
       "    .dataframe thead th {\n",
       "        text-align: right;\n",
       "    }\n",
       "</style>\n",
       "<table border=\"1\" class=\"dataframe\">\n",
       "  <thead>\n",
       "    <tr style=\"text-align: right;\">\n",
       "      <th></th>\n",
       "      <th>tconst</th>\n",
       "      <th>directors</th>\n",
       "      <th>writers</th>\n",
       "    </tr>\n",
       "  </thead>\n",
       "  <tbody>\n",
       "    <tr>\n",
       "      <th>0</th>\n",
       "      <td>tt0000001</td>\n",
       "      <td>nm0005690</td>\n",
       "      <td>\\N</td>\n",
       "    </tr>\n",
       "    <tr>\n",
       "      <th>1</th>\n",
       "      <td>tt0000002</td>\n",
       "      <td>nm0721526</td>\n",
       "      <td>\\N</td>\n",
       "    </tr>\n",
       "    <tr>\n",
       "      <th>2</th>\n",
       "      <td>tt0000003</td>\n",
       "      <td>nm0721526</td>\n",
       "      <td>\\N</td>\n",
       "    </tr>\n",
       "    <tr>\n",
       "      <th>3</th>\n",
       "      <td>tt0000004</td>\n",
       "      <td>nm0721526</td>\n",
       "      <td>\\N</td>\n",
       "    </tr>\n",
       "    <tr>\n",
       "      <th>4</th>\n",
       "      <td>tt0000005</td>\n",
       "      <td>nm0005690</td>\n",
       "      <td>\\N</td>\n",
       "    </tr>\n",
       "  </tbody>\n",
       "</table>\n",
       "</div>"
      ],
      "text/plain": [
       "      tconst  directors writers\n",
       "0  tt0000001  nm0005690      \\N\n",
       "1  tt0000002  nm0721526      \\N\n",
       "2  tt0000003  nm0721526      \\N\n",
       "3  tt0000004  nm0721526      \\N\n",
       "4  tt0000005  nm0005690      \\N"
      ]
     },
     "execution_count": 9,
     "metadata": {},
     "output_type": "execute_result"
    }
   ],
   "source": [
    "Crew.head()"
   ]
  },
  {
   "cell_type": "code",
   "execution_count": 10,
   "metadata": {},
   "outputs": [],
   "source": [
    "Basics = return_dataframe(filename= 'title.basics.tsv.gz', directory= \"C:\\Work\\Last-Mile-Project_TGB\\Files\")"
   ]
  },
  {
   "cell_type": "code",
   "execution_count": 11,
   "metadata": {},
   "outputs": [
    {
     "data": {
      "text/plain": [
       "(8353147, 9)"
      ]
     },
     "execution_count": 11,
     "metadata": {},
     "output_type": "execute_result"
    }
   ],
   "source": [
    "Basics.shape"
   ]
  },
  {
   "cell_type": "code",
   "execution_count": 12,
   "metadata": {},
   "outputs": [
    {
     "data": {
      "text/html": [
       "<div>\n",
       "<style scoped>\n",
       "    .dataframe tbody tr th:only-of-type {\n",
       "        vertical-align: middle;\n",
       "    }\n",
       "\n",
       "    .dataframe tbody tr th {\n",
       "        vertical-align: top;\n",
       "    }\n",
       "\n",
       "    .dataframe thead th {\n",
       "        text-align: right;\n",
       "    }\n",
       "</style>\n",
       "<table border=\"1\" class=\"dataframe\">\n",
       "  <thead>\n",
       "    <tr style=\"text-align: right;\">\n",
       "      <th></th>\n",
       "      <th>tconst</th>\n",
       "      <th>titleType</th>\n",
       "      <th>primaryTitle</th>\n",
       "      <th>originalTitle</th>\n",
       "      <th>isAdult</th>\n",
       "      <th>startYear</th>\n",
       "      <th>endYear</th>\n",
       "      <th>runtimeMinutes</th>\n",
       "      <th>genres</th>\n",
       "    </tr>\n",
       "  </thead>\n",
       "  <tbody>\n",
       "    <tr>\n",
       "      <th>0</th>\n",
       "      <td>tt0000001</td>\n",
       "      <td>short</td>\n",
       "      <td>Carmencita</td>\n",
       "      <td>Carmencita</td>\n",
       "      <td>0</td>\n",
       "      <td>1894</td>\n",
       "      <td>\\N</td>\n",
       "      <td>1</td>\n",
       "      <td>Documentary,Short</td>\n",
       "    </tr>\n",
       "    <tr>\n",
       "      <th>1</th>\n",
       "      <td>tt0000002</td>\n",
       "      <td>short</td>\n",
       "      <td>Le clown et ses chiens</td>\n",
       "      <td>Le clown et ses chiens</td>\n",
       "      <td>0</td>\n",
       "      <td>1892</td>\n",
       "      <td>\\N</td>\n",
       "      <td>5</td>\n",
       "      <td>Animation,Short</td>\n",
       "    </tr>\n",
       "    <tr>\n",
       "      <th>2</th>\n",
       "      <td>tt0000003</td>\n",
       "      <td>short</td>\n",
       "      <td>Pauvre Pierrot</td>\n",
       "      <td>Pauvre Pierrot</td>\n",
       "      <td>0</td>\n",
       "      <td>1892</td>\n",
       "      <td>\\N</td>\n",
       "      <td>4</td>\n",
       "      <td>Animation,Comedy,Romance</td>\n",
       "    </tr>\n",
       "    <tr>\n",
       "      <th>3</th>\n",
       "      <td>tt0000004</td>\n",
       "      <td>short</td>\n",
       "      <td>Un bon bock</td>\n",
       "      <td>Un bon bock</td>\n",
       "      <td>0</td>\n",
       "      <td>1892</td>\n",
       "      <td>\\N</td>\n",
       "      <td>12</td>\n",
       "      <td>Animation,Short</td>\n",
       "    </tr>\n",
       "    <tr>\n",
       "      <th>4</th>\n",
       "      <td>tt0000005</td>\n",
       "      <td>short</td>\n",
       "      <td>Blacksmith Scene</td>\n",
       "      <td>Blacksmith Scene</td>\n",
       "      <td>0</td>\n",
       "      <td>1893</td>\n",
       "      <td>\\N</td>\n",
       "      <td>1</td>\n",
       "      <td>Comedy,Short</td>\n",
       "    </tr>\n",
       "  </tbody>\n",
       "</table>\n",
       "</div>"
      ],
      "text/plain": [
       "      tconst titleType            primaryTitle           originalTitle  \\\n",
       "0  tt0000001     short              Carmencita              Carmencita   \n",
       "1  tt0000002     short  Le clown et ses chiens  Le clown et ses chiens   \n",
       "2  tt0000003     short          Pauvre Pierrot          Pauvre Pierrot   \n",
       "3  tt0000004     short             Un bon bock             Un bon bock   \n",
       "4  tt0000005     short        Blacksmith Scene        Blacksmith Scene   \n",
       "\n",
       "  isAdult startYear endYear runtimeMinutes                    genres  \n",
       "0       0      1894      \\N              1         Documentary,Short  \n",
       "1       0      1892      \\N              5           Animation,Short  \n",
       "2       0      1892      \\N              4  Animation,Comedy,Romance  \n",
       "3       0      1892      \\N             12           Animation,Short  \n",
       "4       0      1893      \\N              1              Comedy,Short  "
      ]
     },
     "execution_count": 12,
     "metadata": {},
     "output_type": "execute_result"
    }
   ],
   "source": [
    "Basics.head()"
   ]
  },
  {
   "cell_type": "code",
   "execution_count": null,
   "metadata": {},
   "outputs": [],
   "source": [
    "Akas = return_dataframe(filename= 'title.akas.tsv.gz', directory= \"C:\\Work\\Last-Mile-Project_TGB\\Files\" )"
   ]
  },
  {
   "cell_type": "code",
   "execution_count": null,
   "metadata": {},
   "outputs": [],
   "source": [
    "Akas.head()"
   ]
  },
  {
   "cell_type": "code",
   "execution_count": null,
   "metadata": {},
   "outputs": [],
   "source": [
    "Akas.shape#rename(columns= {'titleId':'tconst'})"
   ]
  },
  {
   "cell_type": "code",
   "execution_count": null,
   "metadata": {},
   "outputs": [],
   "source": [
    "Crew.shape"
   ]
  },
  {
   "cell_type": "code",
   "execution_count": null,
   "metadata": {},
   "outputs": [],
   "source": [
    "Akas.head()"
   ]
  },
  {
   "cell_type": "code",
   "execution_count": null,
   "metadata": {},
   "outputs": [],
   "source": [
    "Akas.columns = ['tconst','ordering','title','region','language','types','attributes','isOriginalTitle']"
   ]
  },
  {
   "cell_type": "code",
   "execution_count": null,
   "metadata": {},
   "outputs": [],
   "source": [
    "Akas.head()"
   ]
  },
  {
   "cell_type": "code",
   "execution_count": null,
   "metadata": {},
   "outputs": [],
   "source": [
    "Akas.shape"
   ]
  },
  {
   "cell_type": "code",
   "execution_count": null,
   "metadata": {},
   "outputs": [],
   "source": [
    " #Couldn't add the Akas dataframe due to the filesize which was too large for my machine to handle"
   ]
  },
  {
   "cell_type": "code",
   "execution_count": null,
   "metadata": {},
   "outputs": [],
   "source": [
    "## throw different datafranes into a list\n",
    "data_frames = [Ratings, Crew, Basics]\n",
    "\n",
    "IMDB_data = reduce(lambda left,right: pd.merge(left,right, on= ['tconst'], how='outer'), data_frames)"
   ]
  },
  {
   "cell_type": "code",
   "execution_count": null,
   "metadata": {},
   "outputs": [],
   "source": [
    "IMDB_data.tail()"
   ]
  },
  {
   "cell_type": "code",
   "execution_count": null,
   "metadata": {},
   "outputs": [],
   "source": [
    "IMDB_data.info()"
   ]
  }
 ],
 "metadata": {
  "kernelspec": {
   "display_name": "Python 3",
   "language": "python",
   "name": "python3"
  },
  "language_info": {
   "codemirror_mode": {
    "name": "ipython",
    "version": 3
   },
   "file_extension": ".py",
   "mimetype": "text/x-python",
   "name": "python",
   "nbconvert_exporter": "python",
   "pygments_lexer": "ipython3",
   "version": "3.8.5"
  }
 },
 "nbformat": 4,
 "nbformat_minor": 4
}
