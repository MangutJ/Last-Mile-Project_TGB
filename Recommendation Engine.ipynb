{
 "cells": [
  {
   "cell_type": "markdown",
   "metadata": {},
   "source": [
    "# Movie Recommendation Engine based on the IMDB Movie Dataset"
   ]
  },
  {
   "cell_type": "code",
   "execution_count": 1,
   "metadata": {},
   "outputs": [],
   "source": [
    "import pandas as pd\n",
    "import numpy as np\n",
    "from sklearn.feature_extraction.text import CountVectorizer\n",
    "from sklearn.metrics.pairwise import cosine_similarity"
   ]
  },
  {
   "cell_type": "code",
   "execution_count": 2,
   "metadata": {},
   "outputs": [],
   "source": [
    "df = pd.read_csv(\"Netflux_IMDB.csv\")"
   ]
  },
  {
   "cell_type": "code",
   "execution_count": 45,
   "metadata": {},
   "outputs": [
    {
     "name": "stdout",
     "output_type": "stream",
     "text": [
      "<class 'pandas.core.frame.DataFrame'>\n",
      "RangeIndex: 10000 entries, 0 to 9999\n",
      "Data columns (total 15 columns):\n",
      " #   Column             Non-Null Count  Dtype  \n",
      "---  ------             --------------  -----  \n",
      " 0   Unnamed: 0         10000 non-null  int64  \n",
      " 1   tconst             0 non-null      float64\n",
      " 2   averageRating      1430 non-null   float64\n",
      " 3   numVotes           1430 non-null   float64\n",
      " 4   directors          10000 non-null  object \n",
      " 5   writers            10000 non-null  object \n",
      " 6   titleType          10000 non-null  object \n",
      " 7   primaryTitle       10000 non-null  object \n",
      " 8   originalTitle      10000 non-null  object \n",
      " 9   isAdult            10000 non-null  int64  \n",
      " 10  startYear          10000 non-null  object \n",
      " 11  endYear            10000 non-null  object \n",
      " 12  runtimeMinutes     10000 non-null  object \n",
      " 13  genres             10000 non-null  object \n",
      " 14  combined_features  10000 non-null  object \n",
      "dtypes: float64(3), int64(2), object(10)\n",
      "memory usage: 1.1+ MB\n"
     ]
    }
   ],
   "source": [
    "df.info()"
   ]
  },
  {
   "cell_type": "code",
   "execution_count": 44,
   "metadata": {},
   "outputs": [
    {
     "data": {
      "text/html": [
       "<div>\n",
       "<style scoped>\n",
       "    .dataframe tbody tr th:only-of-type {\n",
       "        vertical-align: middle;\n",
       "    }\n",
       "\n",
       "    .dataframe tbody tr th {\n",
       "        vertical-align: top;\n",
       "    }\n",
       "\n",
       "    .dataframe thead th {\n",
       "        text-align: right;\n",
       "    }\n",
       "</style>\n",
       "<table border=\"1\" class=\"dataframe\">\n",
       "  <thead>\n",
       "    <tr style=\"text-align: right;\">\n",
       "      <th></th>\n",
       "      <th>Unnamed: 0</th>\n",
       "      <th>tconst</th>\n",
       "      <th>averageRating</th>\n",
       "      <th>numVotes</th>\n",
       "      <th>isAdult</th>\n",
       "    </tr>\n",
       "  </thead>\n",
       "  <tbody>\n",
       "    <tr>\n",
       "      <th>count</th>\n",
       "      <td>1.000000e+04</td>\n",
       "      <td>0.0</td>\n",
       "      <td>1430.000000</td>\n",
       "      <td>1430.000000</td>\n",
       "      <td>10000.000000</td>\n",
       "    </tr>\n",
       "    <tr>\n",
       "      <th>mean</th>\n",
       "      <td>4.160510e+06</td>\n",
       "      <td>NaN</td>\n",
       "      <td>6.955734</td>\n",
       "      <td>1611.616783</td>\n",
       "      <td>0.030500</td>\n",
       "    </tr>\n",
       "    <tr>\n",
       "      <th>std</th>\n",
       "      <td>2.406786e+06</td>\n",
       "      <td>NaN</td>\n",
       "      <td>1.342915</td>\n",
       "      <td>22981.242151</td>\n",
       "      <td>0.171967</td>\n",
       "    </tr>\n",
       "    <tr>\n",
       "      <th>min</th>\n",
       "      <td>2.244000e+03</td>\n",
       "      <td>NaN</td>\n",
       "      <td>1.000000</td>\n",
       "      <td>5.000000</td>\n",
       "      <td>0.000000</td>\n",
       "    </tr>\n",
       "    <tr>\n",
       "      <th>25%</th>\n",
       "      <td>2.062885e+06</td>\n",
       "      <td>NaN</td>\n",
       "      <td>6.200000</td>\n",
       "      <td>11.000000</td>\n",
       "      <td>0.000000</td>\n",
       "    </tr>\n",
       "    <tr>\n",
       "      <th>50%</th>\n",
       "      <td>4.147142e+06</td>\n",
       "      <td>NaN</td>\n",
       "      <td>7.100000</td>\n",
       "      <td>24.000000</td>\n",
       "      <td>0.000000</td>\n",
       "    </tr>\n",
       "    <tr>\n",
       "      <th>75%</th>\n",
       "      <td>6.234804e+06</td>\n",
       "      <td>NaN</td>\n",
       "      <td>7.900000</td>\n",
       "      <td>77.750000</td>\n",
       "      <td>0.000000</td>\n",
       "    </tr>\n",
       "    <tr>\n",
       "      <th>max</th>\n",
       "      <td>8.352869e+06</td>\n",
       "      <td>NaN</td>\n",
       "      <td>10.000000</td>\n",
       "      <td>731520.000000</td>\n",
       "      <td>1.000000</td>\n",
       "    </tr>\n",
       "  </tbody>\n",
       "</table>\n",
       "</div>"
      ],
      "text/plain": [
       "         Unnamed: 0  tconst  averageRating       numVotes       isAdult\n",
       "count  1.000000e+04     0.0    1430.000000    1430.000000  10000.000000\n",
       "mean   4.160510e+06     NaN       6.955734    1611.616783      0.030500\n",
       "std    2.406786e+06     NaN       1.342915   22981.242151      0.171967\n",
       "min    2.244000e+03     NaN       1.000000       5.000000      0.000000\n",
       "25%    2.062885e+06     NaN       6.200000      11.000000      0.000000\n",
       "50%    4.147142e+06     NaN       7.100000      24.000000      0.000000\n",
       "75%    6.234804e+06     NaN       7.900000      77.750000      0.000000\n",
       "max    8.352869e+06     NaN      10.000000  731520.000000      1.000000"
      ]
     },
     "execution_count": 44,
     "metadata": {},
     "output_type": "execute_result"
    }
   ],
   "source": [
    "df.describe()"
   ]
  },
  {
   "cell_type": "code",
   "execution_count": 4,
   "metadata": {},
   "outputs": [
    {
     "data": {
      "text/html": [
       "<div>\n",
       "<style scoped>\n",
       "    .dataframe tbody tr th:only-of-type {\n",
       "        vertical-align: middle;\n",
       "    }\n",
       "\n",
       "    .dataframe tbody tr th {\n",
       "        vertical-align: top;\n",
       "    }\n",
       "\n",
       "    .dataframe thead th {\n",
       "        text-align: right;\n",
       "    }\n",
       "</style>\n",
       "<table border=\"1\" class=\"dataframe\">\n",
       "  <thead>\n",
       "    <tr style=\"text-align: right;\">\n",
       "      <th></th>\n",
       "      <th>Unnamed: 0</th>\n",
       "      <th>tconst</th>\n",
       "      <th>averageRating</th>\n",
       "      <th>numVotes</th>\n",
       "      <th>directors</th>\n",
       "      <th>writers</th>\n",
       "      <th>titleType</th>\n",
       "      <th>primaryTitle</th>\n",
       "      <th>originalTitle</th>\n",
       "      <th>isAdult</th>\n",
       "      <th>startYear</th>\n",
       "      <th>endYear</th>\n",
       "      <th>runtimeMinutes</th>\n",
       "      <th>genres</th>\n",
       "    </tr>\n",
       "  </thead>\n",
       "  <tbody>\n",
       "    <tr>\n",
       "      <th>9995</th>\n",
       "      <td>2912544</td>\n",
       "      <td>NaN</td>\n",
       "      <td>NaN</td>\n",
       "      <td>NaN</td>\n",
       "      <td>nm1171296</td>\n",
       "      <td>nm5237351,nm1326535,nm8928211,nm7017265</td>\n",
       "      <td>tvEpisode</td>\n",
       "      <td>Episode #1.101</td>\n",
       "      <td>Episode #1.101</td>\n",
       "      <td>0</td>\n",
       "      <td>\\N</td>\n",
       "      <td>\\N</td>\n",
       "      <td>\\N</td>\n",
       "      <td>Drama,Fantasy,Horror</td>\n",
       "    </tr>\n",
       "    <tr>\n",
       "      <th>9996</th>\n",
       "      <td>6017836</td>\n",
       "      <td>NaN</td>\n",
       "      <td>NaN</td>\n",
       "      <td>NaN</td>\n",
       "      <td>\\N</td>\n",
       "      <td>\\N</td>\n",
       "      <td>tvEpisode</td>\n",
       "      <td>The Book Agent</td>\n",
       "      <td>The Book Agent</td>\n",
       "      <td>0</td>\n",
       "      <td>1950</td>\n",
       "      <td>\\N</td>\n",
       "      <td>\\N</td>\n",
       "      <td>Mystery</td>\n",
       "    </tr>\n",
       "    <tr>\n",
       "      <th>9997</th>\n",
       "      <td>5812558</td>\n",
       "      <td>NaN</td>\n",
       "      <td>NaN</td>\n",
       "      <td>NaN</td>\n",
       "      <td>nm0872962</td>\n",
       "      <td>\\N</td>\n",
       "      <td>tvEpisode</td>\n",
       "      <td>All In</td>\n",
       "      <td>All In</td>\n",
       "      <td>0</td>\n",
       "      <td>2014</td>\n",
       "      <td>\\N</td>\n",
       "      <td>43</td>\n",
       "      <td>Reality-TV</td>\n",
       "    </tr>\n",
       "    <tr>\n",
       "      <th>9998</th>\n",
       "      <td>7324515</td>\n",
       "      <td>NaN</td>\n",
       "      <td>NaN</td>\n",
       "      <td>NaN</td>\n",
       "      <td>\\N</td>\n",
       "      <td>\\N</td>\n",
       "      <td>tvEpisode</td>\n",
       "      <td>Episode dated 19 October 2017</td>\n",
       "      <td>Episode dated 19 October 2017</td>\n",
       "      <td>0</td>\n",
       "      <td>2017</td>\n",
       "      <td>\\N</td>\n",
       "      <td>\\N</td>\n",
       "      <td>Talk-Show</td>\n",
       "    </tr>\n",
       "    <tr>\n",
       "      <th>9999</th>\n",
       "      <td>1381080</td>\n",
       "      <td>NaN</td>\n",
       "      <td>NaN</td>\n",
       "      <td>NaN</td>\n",
       "      <td>nm0725526</td>\n",
       "      <td>\\N</td>\n",
       "      <td>movie</td>\n",
       "      <td>Uno</td>\n",
       "      <td>Uno</td>\n",
       "      <td>0</td>\n",
       "      <td>2005</td>\n",
       "      <td>\\N</td>\n",
       "      <td>\\N</td>\n",
       "      <td>Action</td>\n",
       "    </tr>\n",
       "  </tbody>\n",
       "</table>\n",
       "</div>"
      ],
      "text/plain": [
       "      Unnamed: 0  tconst  averageRating  numVotes  directors  \\\n",
       "9995     2912544     NaN            NaN       NaN  nm1171296   \n",
       "9996     6017836     NaN            NaN       NaN         \\N   \n",
       "9997     5812558     NaN            NaN       NaN  nm0872962   \n",
       "9998     7324515     NaN            NaN       NaN         \\N   \n",
       "9999     1381080     NaN            NaN       NaN  nm0725526   \n",
       "\n",
       "                                      writers  titleType  \\\n",
       "9995  nm5237351,nm1326535,nm8928211,nm7017265  tvEpisode   \n",
       "9996                                       \\N  tvEpisode   \n",
       "9997                                       \\N  tvEpisode   \n",
       "9998                                       \\N  tvEpisode   \n",
       "9999                                       \\N      movie   \n",
       "\n",
       "                       primaryTitle                  originalTitle  isAdult  \\\n",
       "9995                 Episode #1.101                 Episode #1.101        0   \n",
       "9996                 The Book Agent                 The Book Agent        0   \n",
       "9997                         All In                         All In        0   \n",
       "9998  Episode dated 19 October 2017  Episode dated 19 October 2017        0   \n",
       "9999                            Uno                            Uno        0   \n",
       "\n",
       "     startYear endYear runtimeMinutes                genres  \n",
       "9995        \\N      \\N             \\N  Drama,Fantasy,Horror  \n",
       "9996      1950      \\N             \\N               Mystery  \n",
       "9997      2014      \\N             43            Reality-TV  \n",
       "9998      2017      \\N             \\N             Talk-Show  \n",
       "9999      2005      \\N             \\N                Action  "
      ]
     },
     "execution_count": 4,
     "metadata": {},
     "output_type": "execute_result"
    }
   ],
   "source": [
    "df.tail()"
   ]
  },
  {
   "cell_type": "code",
   "execution_count": 49,
   "metadata": {},
   "outputs": [],
   "source": [
    "df.drop(\"tconst\", axis=1, inplace=True)"
   ]
  },
  {
   "cell_type": "code",
   "execution_count": 50,
   "metadata": {},
   "outputs": [
    {
     "data": {
      "text/html": [
       "<div>\n",
       "<style scoped>\n",
       "    .dataframe tbody tr th:only-of-type {\n",
       "        vertical-align: middle;\n",
       "    }\n",
       "\n",
       "    .dataframe tbody tr th {\n",
       "        vertical-align: top;\n",
       "    }\n",
       "\n",
       "    .dataframe thead th {\n",
       "        text-align: right;\n",
       "    }\n",
       "</style>\n",
       "<table border=\"1\" class=\"dataframe\">\n",
       "  <thead>\n",
       "    <tr style=\"text-align: right;\">\n",
       "      <th></th>\n",
       "      <th>Index</th>\n",
       "      <th>averageRating</th>\n",
       "      <th>numVotes</th>\n",
       "      <th>directors</th>\n",
       "      <th>writers</th>\n",
       "      <th>titleType</th>\n",
       "      <th>primaryTitle</th>\n",
       "      <th>originalTitle</th>\n",
       "      <th>isAdult</th>\n",
       "      <th>startYear</th>\n",
       "      <th>endYear</th>\n",
       "      <th>runtimeMinutes</th>\n",
       "      <th>genres</th>\n",
       "      <th>combined_features</th>\n",
       "    </tr>\n",
       "  </thead>\n",
       "  <tbody>\n",
       "    <tr>\n",
       "      <th>0</th>\n",
       "      <td>1814796</td>\n",
       "      <td>NaN</td>\n",
       "      <td>NaN</td>\n",
       "      <td>nm0039199</td>\n",
       "      <td>nm1772599,nm1621052</td>\n",
       "      <td>tvEpisode</td>\n",
       "      <td>Sorry Salwa</td>\n",
       "      <td>Sorry Salwa</td>\n",
       "      <td>0</td>\n",
       "      <td>2019</td>\n",
       "      <td>\\N</td>\n",
       "      <td>\\N</td>\n",
       "      <td>Drama</td>\n",
       "      <td>nm0039199 nm1772599,nm1621052 tvEpisode Sorry ...</td>\n",
       "    </tr>\n",
       "    <tr>\n",
       "      <th>1</th>\n",
       "      <td>4238669</td>\n",
       "      <td>NaN</td>\n",
       "      <td>NaN</td>\n",
       "      <td>nm12636206</td>\n",
       "      <td>nm12636206</td>\n",
       "      <td>videoGame</td>\n",
       "      <td>Two Interviewees</td>\n",
       "      <td>Two Interviewees</td>\n",
       "      <td>0</td>\n",
       "      <td>2016</td>\n",
       "      <td>\\N</td>\n",
       "      <td>\\N</td>\n",
       "      <td>\\N</td>\n",
       "      <td>nm12636206 nm12636206 videoGame Two Interviewe...</td>\n",
       "    </tr>\n",
       "    <tr>\n",
       "      <th>2</th>\n",
       "      <td>5819791</td>\n",
       "      <td>NaN</td>\n",
       "      <td>NaN</td>\n",
       "      <td>\\N</td>\n",
       "      <td>\\N</td>\n",
       "      <td>tvEpisode</td>\n",
       "      <td>Episode dated 5 May 2014</td>\n",
       "      <td>Episode dated 5 May 2014</td>\n",
       "      <td>0</td>\n",
       "      <td>2014</td>\n",
       "      <td>\\N</td>\n",
       "      <td>\\N</td>\n",
       "      <td>News</td>\n",
       "      <td>\\N \\N tvEpisode Episode dated 5 May 2014 News</td>\n",
       "    </tr>\n",
       "    <tr>\n",
       "      <th>3</th>\n",
       "      <td>4803539</td>\n",
       "      <td>NaN</td>\n",
       "      <td>NaN</td>\n",
       "      <td>\\N</td>\n",
       "      <td>\\N</td>\n",
       "      <td>tvEpisode</td>\n",
       "      <td>Julia Child</td>\n",
       "      <td>Julia Child</td>\n",
       "      <td>0</td>\n",
       "      <td>2008</td>\n",
       "      <td>\\N</td>\n",
       "      <td>\\N</td>\n",
       "      <td>\\N</td>\n",
       "      <td>\\N \\N tvEpisode Julia Child \\N</td>\n",
       "    </tr>\n",
       "    <tr>\n",
       "      <th>4</th>\n",
       "      <td>3572825</td>\n",
       "      <td>NaN</td>\n",
       "      <td>NaN</td>\n",
       "      <td>\\N</td>\n",
       "      <td>\\N</td>\n",
       "      <td>tvEpisode</td>\n",
       "      <td>Episode #1.1959</td>\n",
       "      <td>Episode #1.1959</td>\n",
       "      <td>0</td>\n",
       "      <td>\\N</td>\n",
       "      <td>\\N</td>\n",
       "      <td>\\N</td>\n",
       "      <td>News</td>\n",
       "      <td>\\N \\N tvEpisode Episode #1.1959 News</td>\n",
       "    </tr>\n",
       "    <tr>\n",
       "      <th>...</th>\n",
       "      <td>...</td>\n",
       "      <td>...</td>\n",
       "      <td>...</td>\n",
       "      <td>...</td>\n",
       "      <td>...</td>\n",
       "      <td>...</td>\n",
       "      <td>...</td>\n",
       "      <td>...</td>\n",
       "      <td>...</td>\n",
       "      <td>...</td>\n",
       "      <td>...</td>\n",
       "      <td>...</td>\n",
       "      <td>...</td>\n",
       "      <td>...</td>\n",
       "    </tr>\n",
       "    <tr>\n",
       "      <th>9995</th>\n",
       "      <td>2912544</td>\n",
       "      <td>NaN</td>\n",
       "      <td>NaN</td>\n",
       "      <td>nm1171296</td>\n",
       "      <td>nm5237351,nm1326535,nm8928211,nm7017265</td>\n",
       "      <td>tvEpisode</td>\n",
       "      <td>Episode #1.101</td>\n",
       "      <td>Episode #1.101</td>\n",
       "      <td>0</td>\n",
       "      <td>\\N</td>\n",
       "      <td>\\N</td>\n",
       "      <td>\\N</td>\n",
       "      <td>Drama,Fantasy,Horror</td>\n",
       "      <td>nm1171296 nm5237351,nm1326535,nm8928211,nm7017...</td>\n",
       "    </tr>\n",
       "    <tr>\n",
       "      <th>9996</th>\n",
       "      <td>6017836</td>\n",
       "      <td>NaN</td>\n",
       "      <td>NaN</td>\n",
       "      <td>\\N</td>\n",
       "      <td>\\N</td>\n",
       "      <td>tvEpisode</td>\n",
       "      <td>The Book Agent</td>\n",
       "      <td>The Book Agent</td>\n",
       "      <td>0</td>\n",
       "      <td>1950</td>\n",
       "      <td>\\N</td>\n",
       "      <td>\\N</td>\n",
       "      <td>Mystery</td>\n",
       "      <td>\\N \\N tvEpisode The Book Agent Mystery</td>\n",
       "    </tr>\n",
       "    <tr>\n",
       "      <th>9997</th>\n",
       "      <td>5812558</td>\n",
       "      <td>NaN</td>\n",
       "      <td>NaN</td>\n",
       "      <td>nm0872962</td>\n",
       "      <td>\\N</td>\n",
       "      <td>tvEpisode</td>\n",
       "      <td>All In</td>\n",
       "      <td>All In</td>\n",
       "      <td>0</td>\n",
       "      <td>2014</td>\n",
       "      <td>\\N</td>\n",
       "      <td>43</td>\n",
       "      <td>Reality-TV</td>\n",
       "      <td>nm0872962 \\N tvEpisode All In Reality-TV</td>\n",
       "    </tr>\n",
       "    <tr>\n",
       "      <th>9998</th>\n",
       "      <td>7324515</td>\n",
       "      <td>NaN</td>\n",
       "      <td>NaN</td>\n",
       "      <td>\\N</td>\n",
       "      <td>\\N</td>\n",
       "      <td>tvEpisode</td>\n",
       "      <td>Episode dated 19 October 2017</td>\n",
       "      <td>Episode dated 19 October 2017</td>\n",
       "      <td>0</td>\n",
       "      <td>2017</td>\n",
       "      <td>\\N</td>\n",
       "      <td>\\N</td>\n",
       "      <td>Talk-Show</td>\n",
       "      <td>\\N \\N tvEpisode Episode dated 19 October 2017 ...</td>\n",
       "    </tr>\n",
       "    <tr>\n",
       "      <th>9999</th>\n",
       "      <td>1381080</td>\n",
       "      <td>NaN</td>\n",
       "      <td>NaN</td>\n",
       "      <td>nm0725526</td>\n",
       "      <td>\\N</td>\n",
       "      <td>movie</td>\n",
       "      <td>Uno</td>\n",
       "      <td>Uno</td>\n",
       "      <td>0</td>\n",
       "      <td>2005</td>\n",
       "      <td>\\N</td>\n",
       "      <td>\\N</td>\n",
       "      <td>Action</td>\n",
       "      <td>nm0725526 \\N movie Uno Action</td>\n",
       "    </tr>\n",
       "  </tbody>\n",
       "</table>\n",
       "<p>10000 rows × 14 columns</p>\n",
       "</div>"
      ],
      "text/plain": [
       "        Index  averageRating  numVotes   directors  \\\n",
       "0     1814796            NaN       NaN   nm0039199   \n",
       "1     4238669            NaN       NaN  nm12636206   \n",
       "2     5819791            NaN       NaN          \\N   \n",
       "3     4803539            NaN       NaN          \\N   \n",
       "4     3572825            NaN       NaN          \\N   \n",
       "...       ...            ...       ...         ...   \n",
       "9995  2912544            NaN       NaN   nm1171296   \n",
       "9996  6017836            NaN       NaN          \\N   \n",
       "9997  5812558            NaN       NaN   nm0872962   \n",
       "9998  7324515            NaN       NaN          \\N   \n",
       "9999  1381080            NaN       NaN   nm0725526   \n",
       "\n",
       "                                      writers  titleType  \\\n",
       "0                         nm1772599,nm1621052  tvEpisode   \n",
       "1                                  nm12636206  videoGame   \n",
       "2                                          \\N  tvEpisode   \n",
       "3                                          \\N  tvEpisode   \n",
       "4                                          \\N  tvEpisode   \n",
       "...                                       ...        ...   \n",
       "9995  nm5237351,nm1326535,nm8928211,nm7017265  tvEpisode   \n",
       "9996                                       \\N  tvEpisode   \n",
       "9997                                       \\N  tvEpisode   \n",
       "9998                                       \\N  tvEpisode   \n",
       "9999                                       \\N      movie   \n",
       "\n",
       "                       primaryTitle                  originalTitle  isAdult  \\\n",
       "0                       Sorry Salwa                    Sorry Salwa        0   \n",
       "1                  Two Interviewees               Two Interviewees        0   \n",
       "2          Episode dated 5 May 2014       Episode dated 5 May 2014        0   \n",
       "3                       Julia Child                    Julia Child        0   \n",
       "4                   Episode #1.1959                Episode #1.1959        0   \n",
       "...                             ...                            ...      ...   \n",
       "9995                 Episode #1.101                 Episode #1.101        0   \n",
       "9996                 The Book Agent                 The Book Agent        0   \n",
       "9997                         All In                         All In        0   \n",
       "9998  Episode dated 19 October 2017  Episode dated 19 October 2017        0   \n",
       "9999                            Uno                            Uno        0   \n",
       "\n",
       "     startYear endYear runtimeMinutes                genres  \\\n",
       "0         2019      \\N             \\N                 Drama   \n",
       "1         2016      \\N             \\N                    \\N   \n",
       "2         2014      \\N             \\N                  News   \n",
       "3         2008      \\N             \\N                    \\N   \n",
       "4           \\N      \\N             \\N                  News   \n",
       "...        ...     ...            ...                   ...   \n",
       "9995        \\N      \\N             \\N  Drama,Fantasy,Horror   \n",
       "9996      1950      \\N             \\N               Mystery   \n",
       "9997      2014      \\N             43            Reality-TV   \n",
       "9998      2017      \\N             \\N             Talk-Show   \n",
       "9999      2005      \\N             \\N                Action   \n",
       "\n",
       "                                      combined_features  \n",
       "0     nm0039199 nm1772599,nm1621052 tvEpisode Sorry ...  \n",
       "1     nm12636206 nm12636206 videoGame Two Interviewe...  \n",
       "2         \\N \\N tvEpisode Episode dated 5 May 2014 News  \n",
       "3                        \\N \\N tvEpisode Julia Child \\N  \n",
       "4                  \\N \\N tvEpisode Episode #1.1959 News  \n",
       "...                                                 ...  \n",
       "9995  nm1171296 nm5237351,nm1326535,nm8928211,nm7017...  \n",
       "9996             \\N \\N tvEpisode The Book Agent Mystery  \n",
       "9997           nm0872962 \\N tvEpisode All In Reality-TV  \n",
       "9998  \\N \\N tvEpisode Episode dated 19 October 2017 ...  \n",
       "9999                      nm0725526 \\N movie Uno Action  \n",
       "\n",
       "[10000 rows x 14 columns]"
      ]
     },
     "execution_count": 50,
     "metadata": {},
     "output_type": "execute_result"
    }
   ],
   "source": [
    "df.rename(columns={'Unnamed: 0':'Index'})"
   ]
  },
  {
   "cell_type": "code",
   "execution_count": 20,
   "metadata": {},
   "outputs": [],
   "source": [
    "## Helper fuctions to be used when needed\n",
    "\n",
    "def get_title_from_index(Index):\n",
    "    return df[df.Index == Index][\"originalTitle\"].values[0]\n",
    "\n",
    "def get_index_from_title(originalTitle):\n",
    "    return df[df.originalTitle == originalTitle][\"Index\"].values[0]"
   ]
  },
  {
   "cell_type": "code",
   "execution_count": 10,
   "metadata": {},
   "outputs": [],
   "source": [
    "##select features\n",
    "\n",
    "features = ['directors','writers','titleType','originalTitle','genres']\n",
    "\n",
    "for feature in features:\n",
    "    df[feature] = df[feature].astype(str)\n",
    "    df[feature] = df[feature].fillna('')"
   ]
  },
  {
   "cell_type": "code",
   "execution_count": 13,
   "metadata": {},
   "outputs": [
    {
     "data": {
      "text/plain": [
       "9995    Drama,Fantasy,Horror\n",
       "9996                 Mystery\n",
       "9997              Reality-TV\n",
       "9998               Talk-Show\n",
       "9999                  Action\n",
       "Name: genres, dtype: object"
      ]
     },
     "execution_count": 13,
     "metadata": {},
     "output_type": "execute_result"
    }
   ],
   "source": [
    "df[feature].tail()"
   ]
  },
  {
   "cell_type": "code",
   "execution_count": 14,
   "metadata": {},
   "outputs": [
    {
     "data": {
      "text/plain": [
       "(10000,)"
      ]
     },
     "execution_count": 14,
     "metadata": {},
     "output_type": "execute_result"
    }
   ],
   "source": [
    "df[feature].shape"
   ]
  },
  {
   "cell_type": "code",
   "execution_count": 15,
   "metadata": {},
   "outputs": [
    {
     "name": "stdout",
     "output_type": "stream",
     "text": [
      "0    nm0039199 nm1772599,nm1621052 tvEpisode Sorry ...\n",
      "1    nm12636206 nm12636206 videoGame Two Interviewe...\n",
      "2        \\N \\N tvEpisode Episode dated 5 May 2014 News\n",
      "3                       \\N \\N tvEpisode Julia Child \\N\n",
      "4                 \\N \\N tvEpisode Episode #1.1959 News\n",
      "Name: combined_features, dtype: object\n"
     ]
    }
   ],
   "source": [
    "##create a column in dataframe which combines all selected features\n",
    "\n",
    "def combine_features(row):\n",
    "    return row['directors'] +\" \"+row['writers']+\" \"+row['titleType']+\" \"+row['originalTitle']+\" \"+row['genres']\n",
    "df[\"combined_features\"] = df.apply(combine_features,axis=1)\n",
    "\n",
    "print(df[\"combined_features\"].head())"
   ]
  },
  {
   "cell_type": "code",
   "execution_count": 16,
   "metadata": {},
   "outputs": [],
   "source": [
    "movie_user_likes = \"The Book Agent\"\n",
    "\n",
    "#create count matrix from this new combined column\n",
    "cv = CountVectorizer()\n",
    "\n",
    "count_matrix = cv.fit_transform(df[\"combined_features\"])\n",
    "\n",
    "#Compute the Cosine Similarity based on the count_matrix\n",
    "cosine_sim = cosine_similarity(count_matrix)"
   ]
  },
  {
   "cell_type": "code",
   "execution_count": 17,
   "metadata": {},
   "outputs": [
    {
     "name": "stdout",
     "output_type": "stream",
     "text": [
      "[0. 0. 0. ... 0. 0. 1.]\n"
     ]
    }
   ],
   "source": [
    "###Analysing the reason for the empty list in sorted_similar_movies\n",
    "i= 0\n",
    "for count in cosine_sim:\n",
    "    i=+1\n",
    "    if i>5:\n",
    "        break\n",
    "print(count)"
   ]
  },
  {
   "cell_type": "code",
   "execution_count": 18,
   "metadata": {},
   "outputs": [
    {
     "data": {
      "text/plain": [
       "(10000, 10000)"
      ]
     },
     "execution_count": 18,
     "metadata": {},
     "output_type": "execute_result"
    }
   ],
   "source": [
    "cosine_sim.shape"
   ]
  },
  {
   "cell_type": "code",
   "execution_count": 23,
   "metadata": {},
   "outputs": [
    {
     "data": {
      "text/plain": [
       "Int64Index([9996], dtype='int64')"
      ]
     },
     "execution_count": 23,
     "metadata": {},
     "output_type": "execute_result"
    }
   ],
   "source": [
    "df.index[df['originalTitle']==\"The Book Agent\"]"
   ]
  },
  {
   "cell_type": "code",
   "execution_count": 24,
   "metadata": {},
   "outputs": [
    {
     "data": {
      "text/plain": [
       "0                         Sorry Salwa\n",
       "1                    Two Interviewees\n",
       "2            Episode dated 5 May 2014\n",
       "3                         Julia Child\n",
       "4                     Episode #1.1959\n",
       "                    ...              \n",
       "9995                   Episode #1.101\n",
       "9996                   The Book Agent\n",
       "9997                           All In\n",
       "9998    Episode dated 19 October 2017\n",
       "9999                              Uno\n",
       "Name: originalTitle, Length: 10000, dtype: object"
      ]
     },
     "execution_count": 24,
     "metadata": {},
     "output_type": "execute_result"
    }
   ],
   "source": [
    "df.originalTitle"
   ]
  },
  {
   "cell_type": "code",
   "execution_count": 25,
   "metadata": {},
   "outputs": [],
   "source": [
    "movie_sim=cosine_sim[9996]"
   ]
  },
  {
   "cell_type": "code",
   "execution_count": 26,
   "metadata": {},
   "outputs": [
    {
     "data": {
      "text/plain": [
       "array([0.16903085, 0.        , 0.18257419, ..., 0.18257419, 0.15811388,\n",
       "       0.        ])"
      ]
     },
     "execution_count": 26,
     "metadata": {},
     "output_type": "execute_result"
    }
   ],
   "source": [
    "movie_sim"
   ]
  },
  {
   "cell_type": "markdown",
   "metadata": {},
   "source": [
    "***Now we got the similarty score list of all the movies with \"The Book Agent\", but here in the 'cosine_sim' we have index values which holds the similarity of each movie, since we want to know the names of top similar movies with the selected movie, therefore we will have to get the index of all the top similar movies***\n",
    "\n",
    "***We will get the indexes of all the top movies mapped with there actual index in \"cos_similarity\" array into the form of tuples in a list***"
   ]
  },
  {
   "cell_type": "code",
   "execution_count": 30,
   "metadata": {},
   "outputs": [],
   "source": [
    "movie_list_with_similarity_index=list(enumerate(cosine_sim[9996]))"
   ]
  },
  {
   "cell_type": "code",
   "execution_count": 37,
   "metadata": {},
   "outputs": [
    {
     "data": {
      "text/plain": [
       "[(0, 0.1690308509457033),\n",
       " (1, 0.0),\n",
       " (2, 0.18257418583505539),\n",
       " (3, 0.25819888974716115),\n",
       " (4, 0.22360679774997896),\n",
       " (5, 0.22360679774997896),\n",
       " (6, 0.0),\n",
       " (7, 0.18257418583505539),\n",
       " (8, 0.1414213562373095),\n",
       " (9, 0.18257418583505539),\n",
       " (10, 0.18257418583505539),\n",
       " (11, 0.0),\n",
       " (12, 0.14907119849998596),\n",
       " (13, 0.0),\n",
       " (14, 0.14907119849998596),\n",
       " (15, 0.1690308509457033),\n",
       " (16, 0.0),\n",
       " (17, 0.08944271909999159),\n",
       " (18, 0.19999999999999998),\n",
       " (19, 0.12909944487358058)]"
      ]
     },
     "execution_count": 37,
     "metadata": {},
     "output_type": "execute_result"
    }
   ],
   "source": [
    "movie_list_with_similarity_index[0:20]"
   ]
  },
  {
   "cell_type": "markdown",
   "metadata": {},
   "source": [
    "***Now we have got list of tuples having each score mapped with its index, now we want to sort all the tuples in the list based on there score values , after sorting we will get the tuples sorted by score values***"
   ]
  },
  {
   "cell_type": "code",
   "execution_count": 38,
   "metadata": {},
   "outputs": [],
   "source": [
    "sorted_movie_list_with_similarity_index=sorted(movie_list_with_similarity_index,key=lambda x :x[1],reverse=True)"
   ]
  },
  {
   "cell_type": "code",
   "execution_count": 41,
   "metadata": {},
   "outputs": [
    {
     "data": {
      "text/plain": [
       "[(9996, 0.9999999999999999),\n",
       " (8134, 0.6),\n",
       " (3725, 0.5163977794943223),\n",
       " (6777, 0.50709255283711),\n",
       " (7062, 0.4961389383568338),\n",
       " (7416, 0.47434164902525683),\n",
       " (9088, 0.47434164902525683),\n",
       " (950, 0.4472135954999579),\n",
       " (2788, 0.4472135954999579),\n",
       " (3505, 0.4472135954999579),\n",
       " (4048, 0.4472135954999579),\n",
       " (6995, 0.4472135954999579),\n",
       " (7398, 0.4472135954999579),\n",
       " (8686, 0.4472135954999579),\n",
       " (9018, 0.4472135954999579)]"
      ]
     },
     "execution_count": 41,
     "metadata": {},
     "output_type": "execute_result"
    }
   ],
   "source": [
    "sorted_movie_list_with_similarity_index[0:15]"
   ]
  },
  {
   "cell_type": "code",
   "execution_count": 42,
   "metadata": {},
   "outputs": [],
   "source": [
    "def get_title_index(index):\n",
    "    return df['originalTitle'][index]"
   ]
  },
  {
   "cell_type": "markdown",
   "metadata": {},
   "source": [
    "# Here is the output for the Top 10 similar movies for the movie title 'The Book Agent' having index value '9996' in the dataset"
   ]
  },
  {
   "cell_type": "code",
   "execution_count": 43,
   "metadata": {},
   "outputs": [
    {
     "name": "stdout",
     "output_type": "stream",
     "text": [
      "Top 10 Correlated movies are : \n",
      " \n",
      "The Book Agent\n",
      "The Rescue\n",
      "Episode #1.8\n",
      "The Final Mystery\n",
      "The Case Of The Invisible Murderer: Part 2\n",
      "The Book of Job: Chapter 3\n",
      "On Films: The Station Agent\n",
      "The Chit\n",
      "The Princess\n",
      "The finale\n"
     ]
    }
   ],
   "source": [
    "print('Top 10 Correlated movies are : \\n ')\n",
    "for i in sorted_movie_list_with_similarity_index[0:10]:\n",
    "    print(get_title_index(i[0])) "
   ]
  },
  {
   "cell_type": "code",
   "execution_count": null,
   "metadata": {},
   "outputs": [],
   "source": []
  }
 ],
 "metadata": {
  "kernelspec": {
   "display_name": "Python 3",
   "language": "python",
   "name": "python3"
  },
  "language_info": {
   "codemirror_mode": {
    "name": "ipython",
    "version": 3
   },
   "file_extension": ".py",
   "mimetype": "text/x-python",
   "name": "python",
   "nbconvert_exporter": "python",
   "pygments_lexer": "ipython3",
   "version": "3.8.5"
  }
 },
 "nbformat": 4,
 "nbformat_minor": 4
}
